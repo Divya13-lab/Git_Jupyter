{
 "cells": [
  {
   "cell_type": "code",
   "execution_count": 7,
   "metadata": {},
   "outputs": [],
   "source": [
    "import plotly.express as px\n",
    "import seaborn as sns\n",
    "import pandas as pd"
   ]
  },
  {
   "cell_type": "code",
   "execution_count": 19,
   "metadata": {},
   "outputs": [
    {
     "data": {
      "text/html": [
       "<div>\n",
       "<style scoped>\n",
       "    .dataframe tbody tr th:only-of-type {\n",
       "        vertical-align: middle;\n",
       "    }\n",
       "\n",
       "    .dataframe tbody tr th {\n",
       "        vertical-align: top;\n",
       "    }\n",
       "\n",
       "    .dataframe thead th {\n",
       "        text-align: right;\n",
       "    }\n",
       "</style>\n",
       "<table border=\"1\" class=\"dataframe\">\n",
       "  <thead>\n",
       "    <tr style=\"text-align: right;\">\n",
       "      <th></th>\n",
       "      <th>Age</th>\n",
       "      <th>Sex</th>\n",
       "      <th>BP</th>\n",
       "      <th>Cholesterol</th>\n",
       "      <th>Na_to_K</th>\n",
       "      <th>Drug</th>\n",
       "    </tr>\n",
       "  </thead>\n",
       "  <tbody>\n",
       "    <tr>\n",
       "      <th>0</th>\n",
       "      <td>23</td>\n",
       "      <td>F</td>\n",
       "      <td>HIGH</td>\n",
       "      <td>HIGH</td>\n",
       "      <td>25.355</td>\n",
       "      <td>drugY</td>\n",
       "    </tr>\n",
       "    <tr>\n",
       "      <th>1</th>\n",
       "      <td>47</td>\n",
       "      <td>M</td>\n",
       "      <td>LOW</td>\n",
       "      <td>HIGH</td>\n",
       "      <td>13.093</td>\n",
       "      <td>drugC</td>\n",
       "    </tr>\n",
       "    <tr>\n",
       "      <th>2</th>\n",
       "      <td>47</td>\n",
       "      <td>M</td>\n",
       "      <td>LOW</td>\n",
       "      <td>HIGH</td>\n",
       "      <td>10.114</td>\n",
       "      <td>drugC</td>\n",
       "    </tr>\n",
       "    <tr>\n",
       "      <th>3</th>\n",
       "      <td>28</td>\n",
       "      <td>F</td>\n",
       "      <td>NORMAL</td>\n",
       "      <td>HIGH</td>\n",
       "      <td>7.798</td>\n",
       "      <td>drugX</td>\n",
       "    </tr>\n",
       "    <tr>\n",
       "      <th>4</th>\n",
       "      <td>61</td>\n",
       "      <td>F</td>\n",
       "      <td>LOW</td>\n",
       "      <td>HIGH</td>\n",
       "      <td>18.043</td>\n",
       "      <td>drugY</td>\n",
       "    </tr>\n",
       "    <tr>\n",
       "      <th>...</th>\n",
       "      <td>...</td>\n",
       "      <td>...</td>\n",
       "      <td>...</td>\n",
       "      <td>...</td>\n",
       "      <td>...</td>\n",
       "      <td>...</td>\n",
       "    </tr>\n",
       "    <tr>\n",
       "      <th>195</th>\n",
       "      <td>56</td>\n",
       "      <td>F</td>\n",
       "      <td>LOW</td>\n",
       "      <td>HIGH</td>\n",
       "      <td>11.567</td>\n",
       "      <td>drugC</td>\n",
       "    </tr>\n",
       "    <tr>\n",
       "      <th>196</th>\n",
       "      <td>16</td>\n",
       "      <td>M</td>\n",
       "      <td>LOW</td>\n",
       "      <td>HIGH</td>\n",
       "      <td>12.006</td>\n",
       "      <td>drugC</td>\n",
       "    </tr>\n",
       "    <tr>\n",
       "      <th>197</th>\n",
       "      <td>52</td>\n",
       "      <td>M</td>\n",
       "      <td>NORMAL</td>\n",
       "      <td>HIGH</td>\n",
       "      <td>9.894</td>\n",
       "      <td>drugX</td>\n",
       "    </tr>\n",
       "    <tr>\n",
       "      <th>198</th>\n",
       "      <td>23</td>\n",
       "      <td>M</td>\n",
       "      <td>NORMAL</td>\n",
       "      <td>NORMAL</td>\n",
       "      <td>14.020</td>\n",
       "      <td>drugX</td>\n",
       "    </tr>\n",
       "    <tr>\n",
       "      <th>199</th>\n",
       "      <td>40</td>\n",
       "      <td>F</td>\n",
       "      <td>LOW</td>\n",
       "      <td>NORMAL</td>\n",
       "      <td>11.349</td>\n",
       "      <td>drugX</td>\n",
       "    </tr>\n",
       "  </tbody>\n",
       "</table>\n",
       "<p>200 rows × 6 columns</p>\n",
       "</div>"
      ],
      "text/plain": [
       "     Age Sex      BP Cholesterol  Na_to_K   Drug\n",
       "0     23   F    HIGH        HIGH   25.355  drugY\n",
       "1     47   M     LOW        HIGH   13.093  drugC\n",
       "2     47   M     LOW        HIGH   10.114  drugC\n",
       "3     28   F  NORMAL        HIGH    7.798  drugX\n",
       "4     61   F     LOW        HIGH   18.043  drugY\n",
       "..   ...  ..     ...         ...      ...    ...\n",
       "195   56   F     LOW        HIGH   11.567  drugC\n",
       "196   16   M     LOW        HIGH   12.006  drugC\n",
       "197   52   M  NORMAL        HIGH    9.894  drugX\n",
       "198   23   M  NORMAL      NORMAL   14.020  drugX\n",
       "199   40   F     LOW      NORMAL   11.349  drugX\n",
       "\n",
       "[200 rows x 6 columns]"
      ]
     },
     "execution_count": 19,
     "metadata": {},
     "output_type": "execute_result"
    }
   ],
   "source": [
    "df= pd.read_csv('Drug.csv').dropna()\n",
    "df"
   ]
  },
  {
   "cell_type": "code",
   "execution_count": 22,
   "metadata": {},
   "outputs": [
    {
     "data": {
      "text/html": [
       "<div>\n",
       "<style scoped>\n",
       "    .dataframe tbody tr th:only-of-type {\n",
       "        vertical-align: middle;\n",
       "    }\n",
       "\n",
       "    .dataframe tbody tr th {\n",
       "        vertical-align: top;\n",
       "    }\n",
       "\n",
       "    .dataframe thead th {\n",
       "        text-align: right;\n",
       "    }\n",
       "</style>\n",
       "<table border=\"1\" class=\"dataframe\">\n",
       "  <thead>\n",
       "    <tr style=\"text-align: right;\">\n",
       "      <th></th>\n",
       "      <th>Age</th>\n",
       "      <th>Sex</th>\n",
       "      <th>BP</th>\n",
       "      <th>Cholesterol</th>\n",
       "      <th>Na_to_K</th>\n",
       "      <th>Drug</th>\n",
       "      <th>DrugValue</th>\n",
       "    </tr>\n",
       "  </thead>\n",
       "  <tbody>\n",
       "    <tr>\n",
       "      <th>0</th>\n",
       "      <td>23</td>\n",
       "      <td>F</td>\n",
       "      <td>HIGH</td>\n",
       "      <td>HIGH</td>\n",
       "      <td>25.355</td>\n",
       "      <td>drugY</td>\n",
       "      <td>5</td>\n",
       "    </tr>\n",
       "    <tr>\n",
       "      <th>1</th>\n",
       "      <td>47</td>\n",
       "      <td>M</td>\n",
       "      <td>LOW</td>\n",
       "      <td>HIGH</td>\n",
       "      <td>13.093</td>\n",
       "      <td>drugC</td>\n",
       "      <td>3</td>\n",
       "    </tr>\n",
       "    <tr>\n",
       "      <th>2</th>\n",
       "      <td>47</td>\n",
       "      <td>M</td>\n",
       "      <td>LOW</td>\n",
       "      <td>HIGH</td>\n",
       "      <td>10.114</td>\n",
       "      <td>drugC</td>\n",
       "      <td>3</td>\n",
       "    </tr>\n",
       "    <tr>\n",
       "      <th>3</th>\n",
       "      <td>28</td>\n",
       "      <td>F</td>\n",
       "      <td>NORMAL</td>\n",
       "      <td>HIGH</td>\n",
       "      <td>7.798</td>\n",
       "      <td>drugX</td>\n",
       "      <td>4</td>\n",
       "    </tr>\n",
       "    <tr>\n",
       "      <th>4</th>\n",
       "      <td>61</td>\n",
       "      <td>F</td>\n",
       "      <td>LOW</td>\n",
       "      <td>HIGH</td>\n",
       "      <td>18.043</td>\n",
       "      <td>drugY</td>\n",
       "      <td>5</td>\n",
       "    </tr>\n",
       "  </tbody>\n",
       "</table>\n",
       "</div>"
      ],
      "text/plain": [
       "   Age Sex      BP Cholesterol  Na_to_K   Drug  DrugValue\n",
       "0   23   F    HIGH        HIGH   25.355  drugY          5\n",
       "1   47   M     LOW        HIGH   13.093  drugC          3\n",
       "2   47   M     LOW        HIGH   10.114  drugC          3\n",
       "3   28   F  NORMAL        HIGH    7.798  drugX          4\n",
       "4   61   F     LOW        HIGH   18.043  drugY          5"
      ]
     },
     "execution_count": 22,
     "metadata": {},
     "output_type": "execute_result"
    }
   ],
   "source": [
    "drug_mapping = {\n",
    "    'drugA': 1,\n",
    "    'drugB': 2,\n",
    "    'drugC': 3,\n",
    "    'drugX': 4,\n",
    "    'drugY': 5,\n",
    "    # Add more mappings for other drugs as needed\n",
    "}\n",
    "\n",
    "# Create a new column \"DrugValue\" based on the mapping\n",
    "df['DrugValue'] = df['Drug'].map(drug_mapping)\n",
    "df.head()"
   ]
  },
  {
   "cell_type": "code",
   "execution_count": 25,
   "metadata": {},
   "outputs": [
    {
     "data": {
      "application/vnd.plotly.v1+json": {
       "config": {
        "plotlyServerURL": "https://plot.ly"
       },
       "data": [
        {
         "branchvalues": "total",
         "customdata": [
          [
           "M"
          ],
          [
           "M"
          ],
          [
           "M"
          ],
          [
           "M"
          ],
          [
           "F"
          ],
          [
           "M"
          ],
          [
           "F"
          ],
          [
           "M"
          ],
          [
           "M"
          ],
          [
           "M"
          ],
          [
           "M"
          ],
          [
           "M"
          ],
          [
           "F"
          ],
          [
           "F"
          ],
          [
           "M"
          ],
          [
           "F"
          ],
          [
           "F"
          ],
          [
           "F"
          ],
          [
           "F"
          ],
          [
           "M"
          ],
          [
           "F"
          ],
          [
           "M"
          ],
          [
           "F"
          ],
          [
           "F"
          ],
          [
           "M"
          ],
          [
           "F"
          ],
          [
           "M"
          ],
          [
           "M"
          ],
          [
           "F"
          ],
          [
           "F"
          ],
          [
           "M"
          ],
          [
           "F"
          ],
          [
           "M"
          ],
          [
           "F"
          ],
          [
           "M"
          ],
          [
           "F"
          ],
          [
           "F"
          ],
          [
           "M"
          ],
          [
           "M"
          ],
          [
           "M"
          ],
          [
           "M"
          ],
          [
           "F"
          ],
          [
           "M"
          ],
          [
           "M"
          ],
          [
           "F"
          ],
          [
           "F"
          ],
          [
           "F"
          ],
          [
           "M"
          ],
          [
           "F"
          ],
          [
           "F"
          ],
          [
           "F"
          ],
          [
           "F"
          ],
          [
           "M"
          ],
          [
           "F"
          ],
          [
           "F"
          ],
          [
           "M"
          ],
          [
           "F"
          ],
          [
           "F"
          ],
          [
           "F"
          ],
          [
           "F"
          ],
          [
           "M"
          ],
          [
           "F"
          ],
          [
           "F"
          ],
          [
           "M"
          ],
          [
           "M"
          ],
          [
           "F"
          ],
          [
           "F"
          ],
          [
           "F"
          ],
          [
           "M"
          ],
          [
           "M"
          ],
          [
           "F"
          ],
          [
           "M"
          ],
          [
           "M"
          ],
          [
           "F"
          ],
          [
           "F"
          ],
          [
           "M"
          ],
          [
           "M"
          ],
          [
           "M"
          ],
          [
           "F"
          ],
          [
           "F"
          ],
          [
           "F"
          ],
          [
           "M"
          ],
          [
           "M"
          ],
          [
           "M"
          ],
          [
           "F"
          ],
          [
           "M"
          ],
          [
           "F"
          ],
          [
           "M"
          ],
          [
           "F"
          ],
          [
           "M"
          ],
          [
           "M"
          ],
          [
           "F"
          ],
          [
           "M"
          ],
          [
           "M"
          ],
          [
           "M"
          ],
          [
           "F"
          ],
          [
           "M"
          ],
          [
           "M"
          ],
          [
           "M"
          ],
          [
           "F"
          ],
          [
           "F"
          ],
          [
           "F"
          ],
          [
           "F"
          ],
          [
           "M"
          ],
          [
           "M"
          ],
          [
           "F"
          ],
          [
           "M"
          ],
          [
           "M"
          ],
          [
           "F"
          ],
          [
           "M"
          ],
          [
           "F"
          ],
          [
           "M"
          ],
          [
           "M"
          ],
          [
           "M"
          ],
          [
           "M"
          ],
          [
           "M"
          ],
          [
           "M"
          ],
          [
           "M"
          ],
          [
           "M"
          ],
          [
           "F"
          ],
          [
           "F"
          ],
          [
           "F"
          ],
          [
           "F"
          ],
          [
           "M"
          ],
          [
           "F"
          ],
          [
           "F"
          ],
          [
           "F"
          ],
          [
           "M"
          ],
          [
           "F"
          ],
          [
           "M"
          ],
          [
           "F"
          ],
          [
           "M"
          ],
          [
           "M"
          ],
          [
           "F"
          ],
          [
           "M"
          ],
          [
           "M"
          ],
          [
           "F"
          ],
          [
           "M"
          ],
          [
           "F"
          ],
          [
           "M"
          ],
          [
           "F"
          ],
          [
           "M"
          ],
          [
           "F"
          ],
          [
           "M"
          ],
          [
           "M"
          ],
          [
           "F"
          ],
          [
           "M"
          ],
          [
           "F"
          ],
          [
           "F"
          ],
          [
           "M"
          ],
          [
           "F"
          ],
          [
           "M"
          ],
          [
           "M"
          ],
          [
           "F"
          ],
          [
           "M"
          ],
          [
           "F"
          ],
          [
           "F"
          ],
          [
           "M"
          ],
          [
           "M"
          ],
          [
           "M"
          ],
          [
           "M"
          ],
          [
           "M"
          ],
          [
           "M"
          ],
          [
           "F"
          ],
          [
           "F"
          ],
          [
           "M"
          ],
          [
           "M"
          ],
          [
           "F"
          ],
          [
           "F"
          ],
          [
           "F"
          ],
          [
           "M"
          ],
          [
           "M"
          ],
          [
           "M"
          ],
          [
           "M"
          ],
          [
           "M"
          ],
          [
           "F"
          ],
          [
           "M"
          ],
          [
           "M"
          ],
          [
           "F"
          ],
          [
           "F"
          ],
          [
           "F"
          ],
          [
           "M"
          ],
          [
           "M"
          ],
          [
           "M"
          ],
          [
           "M"
          ],
          [
           "F"
          ],
          [
           "F"
          ],
          [
           "F"
          ],
          [
           "F"
          ],
          [
           "M"
          ],
          [
           "M"
          ],
          [
           "F"
          ],
          [
           "F"
          ],
          [
           "M"
          ],
          [
           "F"
          ],
          [
           "F"
          ],
          [
           "F"
          ],
          [
           "F"
          ],
          [
           "M"
          ],
          [
           "F"
          ],
          [
           "F"
          ],
          [
           "F"
          ],
          [
           "F"
          ],
          [
           "F"
          ],
          [
           "M"
          ],
          [
           "F"
          ],
          [
           "M"
          ],
          [
           "M"
          ],
          [
           "M"
          ],
          [
           "F"
          ],
          [
           "F"
          ],
          [
           "F"
          ],
          [
           "M"
          ],
          [
           "M"
          ],
          [
           "F"
          ],
          [
           "M"
          ],
          [
           "F"
          ],
          [
           "F"
          ],
          [
           "M"
          ],
          [
           "M"
          ],
          [
           "M"
          ],
          [
           "F"
          ],
          [
           "F"
          ],
          [
           "F"
          ],
          [
           "M"
          ],
          [
           "M"
          ],
          [
           "F"
          ],
          [
           "M"
          ],
          [
           "F"
          ],
          [
           "M"
          ],
          [
           "M"
          ],
          [
           "M"
          ],
          [
           "F"
          ],
          [
           "M"
          ],
          [
           "M"
          ],
          [
           "M"
          ],
          [
           "M"
          ],
          [
           "F"
          ],
          [
           "F"
          ],
          [
           "F"
          ],
          [
           "F"
          ],
          [
           "M"
          ],
          [
           "M"
          ],
          [
           "M"
          ],
          [
           "M"
          ],
          [
           "M"
          ],
          [
           "F"
          ],
          [
           "M"
          ],
          [
           "F"
          ],
          [
           "M"
          ],
          [
           "M"
          ],
          [
           "F"
          ],
          [
           "M"
          ],
          [
           "F"
          ],
          [
           "F"
          ],
          [
           "F"
          ],
          [
           "M"
          ],
          [
           "M"
          ],
          [
           "M"
          ],
          [
           "F"
          ],
          [
           "M"
          ],
          [
           "F"
          ],
          [
           "M"
          ],
          [
           "M"
          ],
          [
           "F"
          ],
          [
           "M"
          ],
          [
           "M"
          ],
          [
           "F"
          ],
          [
           "M"
          ],
          [
           "F"
          ],
          [
           "F"
          ],
          [
           "M"
          ],
          [
           "F"
          ],
          [
           "M"
          ],
          [
           "F"
          ],
          [
           "F"
          ],
          [
           "F"
          ],
          [
           "F"
          ],
          [
           "M"
          ],
          [
           "M"
          ],
          [
           "M"
          ],
          [
           "M"
          ],
          [
           "F"
          ],
          [
           "F"
          ],
          [
           "M"
          ],
          [
           "M"
          ],
          [
           "M"
          ],
          [
           "M"
          ],
          [
           "M"
          ],
          [
           "F"
          ],
          [
           "F"
          ],
          [
           "F"
          ],
          [
           "F"
          ],
          [
           "F"
          ],
          [
           "M"
          ],
          [
           "F"
          ],
          [
           "M"
          ],
          [
           "F"
          ],
          [
           "F"
          ],
          [
           "M"
          ],
          [
           "F"
          ],
          [
           "F"
          ],
          [
           "M"
          ],
          [
           "F"
          ],
          [
           "M"
          ],
          [
           "F"
          ],
          [
           "F"
          ],
          [
           "M"
          ],
          [
           "F"
          ],
          [
           "M"
          ],
          [
           "F"
          ],
          [
           "F"
          ],
          [
           "F"
          ],
          [
           "F"
          ],
          [
           "M"
          ],
          [
           "M"
          ],
          [
           "M"
          ],
          [
           "M"
          ],
          [
           "M"
          ],
          [
           "F"
          ],
          [
           "F"
          ],
          [
           "F"
          ],
          [
           "M"
          ],
          [
           "M"
          ],
          [
           "F"
          ],
          [
           "M"
          ],
          [
           "F"
          ],
          [
           "M"
          ],
          [
           "M"
          ],
          [
           "F"
          ],
          [
           "M"
          ],
          [
           "F"
          ],
          [
           "F"
          ],
          [
           "M"
          ],
          [
           "M"
          ],
          [
           "F"
          ],
          [
           "M"
          ],
          [
           "F"
          ],
          [
           "F"
          ],
          [
           "M"
          ],
          [
           "F"
          ],
          [
           "F"
          ],
          [
           "F"
          ],
          [
           "M"
          ],
          [
           "M"
          ],
          [
           "M"
          ],
          [
           "M"
          ],
          [
           "F"
          ],
          [
           "M"
          ],
          [
           "M"
          ],
          [
           "F"
          ],
          [
           "M"
          ],
          [
           "F"
          ],
          [
           "F"
          ],
          [
           "M"
          ],
          [
           "M"
          ],
          [
           "F"
          ],
          [
           "M"
          ],
          [
           "M"
          ],
          [
           "F"
          ],
          [
           "F"
          ],
          [
           "M"
          ],
          [
           "M"
          ],
          [
           "F"
          ],
          [
           "F"
          ],
          [
           "M"
          ],
          [
           "M"
          ],
          [
           "F"
          ],
          [
           "F"
          ],
          [
           "F"
          ],
          [
           "M"
          ],
          [
           "M"
          ],
          [
           "F"
          ],
          [
           "M"
          ],
          [
           "F"
          ],
          [
           "M"
          ],
          [
           "F"
          ],
          [
           "F"
          ],
          [
           "M"
          ],
          [
           "F"
          ],
          [
           "M"
          ],
          [
           "F"
          ],
          [
           "F"
          ],
          [
           "F"
          ],
          [
           "M"
          ],
          [
           "F"
          ],
          [
           "F"
          ],
          [
           "M"
          ],
          [
           "F"
          ],
          [
           "M"
          ],
          [
           "F"
          ],
          [
           "M"
          ],
          [
           "F"
          ],
          [
           "F"
          ],
          [
           "F"
          ],
          [
           "M"
          ],
          [
           "M"
          ],
          [
           "F"
          ],
          [
           "M"
          ],
          [
           "F"
          ],
          [
           "M"
          ],
          [
           "F"
          ],
          [
           "F"
          ],
          [
           "F"
          ],
          [
           "F"
          ],
          [
           "M"
          ],
          [
           "M"
          ],
          [
           "M"
          ],
          [
           "F"
          ],
          [
           "M"
          ],
          [
           "M"
          ],
          [
           "F"
          ],
          [
           "F"
          ],
          [
           "M"
          ],
          [
           "M"
          ],
          [
           "M"
          ],
          [
           "M"
          ],
          [
           "M"
          ],
          [
           "F"
          ],
          [
           "F"
          ],
          [
           "F"
          ],
          [
           "F"
          ],
          [
           "F"
          ],
          [
           "M"
          ],
          [
           "M"
          ],
          [
           "F"
          ],
          [
           "M"
          ],
          [
           "F"
          ],
          [
           "M"
          ],
          [
           "F"
          ],
          [
           "M"
          ],
          [
           "M"
          ],
          [
           "F"
          ],
          [
           "M"
          ],
          [
           "M"
          ],
          [
           "M"
          ],
          [
           "F"
          ],
          [
           "M"
          ],
          [
           "M"
          ],
          [
           "F"
          ],
          [
           "M"
          ],
          [
           "M"
          ],
          [
           "F"
          ],
          [
           "M"
          ],
          [
           "F"
          ],
          [
           "F"
          ],
          [
           "F"
          ],
          [
           "F"
          ],
          [
           "M"
          ],
          [
           "M"
          ],
          [
           "F"
          ],
          [
           "M"
          ],
          [
           "F"
          ],
          [
           "M"
          ],
          [
           "F"
          ],
          [
           "M"
          ],
          [
           "F"
          ],
          [
           "F"
          ],
          [
           "M"
          ],
          [
           "F"
          ],
          [
           "M"
          ],
          [
           "M"
          ],
          [
           "M"
          ],
          [
           "F"
          ],
          [
           "M"
          ],
          [
           "F"
          ],
          [
           "M"
          ],
          [
           "F"
          ],
          [
           "M"
          ],
          [
           "M"
          ],
          [
           "F"
          ],
          [
           "M"
          ],
          [
           "M"
          ],
          [
           "F"
          ],
          [
           "F"
          ],
          [
           "F"
          ],
          [
           "M"
          ],
          [
           "F"
          ],
          [
           "F"
          ],
          [
           "M"
          ],
          [
           "M"
          ],
          [
           "M"
          ],
          [
           "F"
          ],
          [
           "M"
          ],
          [
           "F"
          ],
          [
           "M"
          ],
          [
           "M"
          ],
          [
           "M"
          ],
          [
           "F"
          ],
          [
           "F"
          ],
          [
           "F"
          ],
          [
           "M"
          ],
          [
           "M"
          ],
          [
           "F"
          ],
          [
           "M"
          ],
          [
           "M"
          ],
          [
           "F"
          ],
          [
           "M"
          ],
          [
           "F"
          ],
          [
           "F"
          ],
          [
           "M"
          ],
          [
           "M"
          ],
          [
           "F"
          ],
          [
           "F"
          ],
          [
           "M"
          ],
          [
           "F"
          ],
          [
           "F"
          ],
          [
           "M"
          ],
          [
           "M"
          ],
          [
           "F"
          ],
          [
           "F"
          ],
          [
           "F"
          ],
          [
           "M"
          ],
          [
           "F"
          ],
          [
           "M"
          ],
          [
           "M"
          ],
          [
           "M"
          ],
          [
           "M"
          ],
          [
           "M"
          ],
          [
           "F"
          ],
          [
           "F"
          ],
          [
           "M"
          ],
          [
           "M"
          ],
          [
           "M"
          ],
          [
           "M"
          ],
          [
           "M"
          ],
          [
           "F"
          ],
          [
           "F"
          ],
          [
           "M"
          ],
          [
           "F"
          ],
          [
           "F"
          ],
          [
           "F"
          ],
          [
           "F"
          ],
          [
           "F"
          ],
          [
           "M"
          ],
          [
           "F"
          ],
          [
           "M"
          ],
          [
           "M"
          ],
          [
           "F"
          ],
          [
           "F"
          ],
          [
           "F"
          ],
          [
           "M"
          ],
          [
           "F"
          ],
          [
           "F"
          ],
          [
           "M"
          ],
          [
           "F"
          ],
          [
           "M"
          ],
          [
           "F"
          ],
          [
           "M"
          ],
          [
           "M"
          ],
          [
           "F"
          ],
          [
           "M"
          ],
          [
           "F"
          ],
          [
           "M"
          ],
          [
           "F"
          ],
          [
           "M"
          ],
          [
           "F"
          ],
          [
           "M"
          ],
          [
           "F"
          ],
          [
           "M"
          ],
          [
           "F"
          ],
          [
           "F"
          ],
          [
           "M"
          ],
          [
           "F"
          ],
          [
           "M"
          ],
          [
           "F"
          ],
          [
           "M"
          ],
          [
           "F"
          ],
          [
           "M"
          ],
          [
           "F"
          ],
          [
           "M"
          ],
          [
           "F"
          ],
          [
           "M"
          ],
          [
           "F"
          ],
          [
           "M"
          ],
          [
           "F"
          ],
          [
           "M"
          ],
          [
           "F"
          ],
          [
           "M"
          ],
          [
           "M"
          ],
          [
           "F"
          ],
          [
           "M"
          ],
          [
           "F"
          ],
          [
           "M"
          ],
          [
           "F"
          ],
          [
           "M"
          ],
          [
           "F"
          ],
          [
           "M"
          ],
          [
           "F"
          ],
          [
           "M"
          ],
          [
           "F"
          ],
          [
           "M"
          ],
          [
           "F"
          ],
          [
           "M"
          ],
          [
           "M"
          ],
          [
           "F"
          ],
          [
           "M"
          ],
          [
           "M"
          ],
          [
           "F"
          ],
          [
           "M"
          ],
          [
           "F"
          ],
          [
           "M"
          ],
          [
           "F"
          ],
          [
           "M"
          ],
          [
           "F"
          ],
          [
           "M"
          ],
          [
           "F"
          ],
          [
           "M"
          ],
          [
           "F"
          ],
          [
           "M"
          ],
          [
           "F"
          ],
          [
           "M"
          ],
          [
           "M"
          ],
          [
           "M"
          ],
          [
           "F"
          ],
          [
           "M"
          ],
          [
           "F"
          ],
          [
           "M"
          ],
          [
           "F"
          ],
          [
           "M"
          ],
          [
           "F"
          ],
          [
           "M"
          ],
          [
           "F"
          ],
          [
           "M"
          ],
          [
           "F"
          ],
          [
           "M"
          ],
          [
           "F"
          ],
          [
           "M"
          ],
          [
           "F"
          ],
          [
           "M"
          ],
          [
           "F"
          ],
          [
           "F"
          ],
          [
           "M"
          ],
          [
           "F"
          ],
          [
           "M"
          ]
         ],
         "domain": {
          "x": [
           0,
           1
          ],
          "y": [
           0,
           1
          ]
         },
         "hovertemplate": "labels=%{label}<br>DrugValue=%{value}<br>parent=%{parent}<br>id=%{id}<br>Sex=%{customdata[0]}<extra></extra>",
         "ids": [
          "M/49/HIGH/NORMAL/6.269",
          "M/37/LOW/NORMAL/16.724",
          "M/62/NORMAL/HIGH/16.594",
          "M/66/HIGH/HIGH/16.347",
          "F/67/NORMAL/HIGH/15.891",
          "M/50/NORMAL/NORMAL/15.79",
          "F/16/HIGH/NORMAL/15.516",
          "M/74/HIGH/NORMAL/15.436",
          "M/43/LOW/HIGH/15.376",
          "M/41/HIGH/NORMAL/15.156",
          "M/43/HIGH/HIGH/13.972",
          "M/70/HIGH/HIGH/13.967",
          "F/59/NORMAL/HIGH/13.884",
          "F/65/LOW/NORMAL/13.769",
          "M/31/HIGH/NORMAL/17.069",
          "F/19/HIGH/HIGH/13.313",
          "F/37/HIGH/HIGH/13.091",
          "F/34/LOW/NORMAL/12.923",
          "F/28/NORMAL/HIGH/12.879",
          "M/29/HIGH/HIGH/12.856",
          "F/45/HIGH/HIGH/12.854",
          "M/42/HIGH/NORMAL/12.766",
          "F/26/HIGH/NORMAL/12.307",
          "F/50/NORMAL/NORMAL/12.295",
          "M/23/NORMAL/HIGH/12.26",
          "F/37/LOW/NORMAL/12.006",
          "M/74/LOW/NORMAL/11.939",
          "M/31/HIGH/NORMAL/11.871",
          "F/47/LOW/HIGH/11.767",
          "F/60/HIGH/HIGH/13.303",
          "M/15/HIGH/NORMAL/17.206",
          "F/61/LOW/HIGH/18.043",
          "M/38/LOW/HIGH/18.295",
          "F/46/HIGH/HIGH/34.686",
          "M/47/LOW/NORMAL/33.542",
          "F/42/LOW/NORMAL/29.271",
          "F/21/HIGH/NORMAL/28.632",
          "M/22/HIGH/NORMAL/28.294",
          "M/40/HIGH/HIGH/27.826",
          "M/62/LOW/NORMAL/27.183",
          "M/28/NORMAL/HIGH/27.064",
          "F/68/NORMAL/NORMAL/27.05",
          "M/63/NORMAL/HIGH/25.917",
          "M/24/NORMAL/HIGH/25.786",
          "F/64/LOW/NORMAL/25.741",
          "F/56/HIGH/HIGH/25.395",
          "F/23/HIGH/HIGH/25.355",
          "M/54/NORMAL/HIGH/24.658",
          "F/18/HIGH/NORMAL/24.276",
          "F/37/HIGH/NORMAL/23.091",
          "F/41/NORMAL/NORMAL/22.905",
          "F/39/LOW/NORMAL/22.697",
          "M/34/NORMAL/HIGH/22.456",
          "F/42/HIGH/HIGH/21.036",
          "F/74/LOW/HIGH/20.942",
          "M/42/LOW/HIGH/20.013",
          "F/73/NORMAL/HIGH/19.221",
          "F/34/HIGH/NORMAL/19.199",
          "F/26/HIGH/NORMAL/19.161",
          "F/28/HIGH/NORMAL/18.809",
          "M/34/HIGH/HIGH/18.703",
          "F/73/HIGH/HIGH/18.348",
          "F/56/LOW/HIGH/11.567",
          "M/51/HIGH/NORMAL/11.343",
          "M/59/HIGH/HIGH/13.935",
          "F/58/LOW/HIGH/38.247",
          "F/28/NORMAL/HIGH/7.798",
          "F/32/HIGH/NORMAL/10.292",
          "M/68/LOW/HIGH/10.291",
          "M/35/NORMAL/NORMAL/7.845",
          "F/68/HIGH/NORMAL/10.189",
          "M/22/LOW/HIGH/8.151",
          "M/45/LOW/NORMAL/8.37",
          "F/18/NORMAL/NORMAL/8.75",
          "F/59/LOW/HIGH/10.444",
          "M/60/NORMAL/NORMAL/10.091",
          "M/45/LOW/NORMAL/10.017",
          "M/35/LOW/NORMAL/9.17",
          "F/20/NORMAL/NORMAL/9.281",
          "F/49/NORMAL/NORMAL/9.381",
          "F/39/NORMAL/NORMAL/9.709",
          "M/65/HIGH/NORMAL/11.34",
          "M/74/HIGH/HIGH/9.567",
          "M/32/HIGH/NORMAL/9.445",
          "F/47/LOW/HIGH/10.067",
          "M/48/HIGH/NORMAL/10.446",
          "F/66/NORMAL/NORMAL/8.107",
          "M/24/HIGH/NORMAL/9.475",
          "F/36/HIGH/HIGH/11.198",
          "M/55/NORMAL/NORMAL/7.261",
          "M/46/NORMAL/NORMAL/7.285",
          "F/32/LOW/NORMAL/10.84",
          "M/17/NORMAL/NORMAL/10.832",
          "M/67/NORMAL/NORMAL/10.898",
          "M/23/LOW/HIGH/7.298",
          "F/61/LOW/NORMAL/7.34",
          "M/58/HIGH/HIGH/18.991",
          "M/26/LOW/NORMAL/20.909",
          "M/67/LOW/NORMAL/20.693",
          "F/70/NORMAL/HIGH/20.489",
          "F/28/LOW/HIGH/19.796",
          "F/28/NORMAL/HIGH/19.675",
          "F/58/HIGH/HIGH/19.416",
          "M/43/LOW/NORMAL/19.368",
          "M/52/LOW/NORMAL/32.922",
          "F/33/LOW/HIGH/33.486",
          "M/72/LOW/HIGH/6.769",
          "M/61/NORMAL/HIGH/9.443",
          "F/65/HIGH/NORMAL/31.876",
          "M/57/LOW/NORMAL/19.128",
          "F/47/NORMAL/NORMAL/6.683",
          "M/20/HIGH/NORMAL/35.639",
          "M/65/HIGH/NORMAL/34.997",
          "M/25/NORMAL/HIGH/19.011",
          "M/16/HIGH/NORMAL/19.007",
          "M/64/HIGH/NORMAL/20.932",
          "M/50/HIGH/HIGH/7.49",
          "M/37/LOW/NORMAL/8.968",
          "M/64/NORMAL/HIGH/7.761",
          "F/58/LOW/HIGH/26.645",
          "F/32/HIGH/NORMAL/25.974",
          "F/19/HIGH/NORMAL/25.969",
          "F/57/NORMAL/NORMAL/25.893",
          "M/23/HIGH/HIGH/8.011",
          "F/61/HIGH/HIGH/25.475",
          "F/41/LOW/NORMAL/18.739",
          "F/29/HIGH/HIGH/29.45",
          "M/15/NORMAL/HIGH/9.084",
          "F/38/LOW/NORMAL/29.875",
          "M/60/HIGH/NORMAL/8.621",
          "F/51/LOW/NORMAL/23.003",
          "M/53/LOW/HIGH/22.963",
          "M/49/HIGH/NORMAL/8.7",
          "F/22/HIGH/NORMAL/22.818",
          "M/31/HIGH/HIGH/30.366",
          "M/56/NORMAL/HIGH/8.966",
          "F/32/NORMAL/HIGH/7.477",
          "M/23/NORMAL/HIGH/31.686",
          "F/22/NORMAL/HIGH/8.607",
          "M/47/LOW/NORMAL/30.568",
          "F/38/HIGH/NORMAL/11.326",
          "M/67/NORMAL/NORMAL/9.514",
          "F/18/HIGH/HIGH/37.188",
          "M/60/HIGH/HIGH/13.934",
          "M/49/LOW/NORMAL/13.598",
          "F/51/NORMAL/HIGH/13.597",
          "M/47/HIGH/HIGH/10.403",
          "F/30/NORMAL/HIGH/10.443",
          "F/28/LOW/HIGH/13.127",
          "M/47/LOW/HIGH/13.093",
          "F/35/HIGH/HIGH/12.894",
          "M/49/LOW/HIGH/10.537",
          "M/43/NORMAL/NORMAL/12.859",
          "F/24/NORMAL/HIGH/10.605",
          "M/39/LOW/NORMAL/13.938",
          "F/50/NORMAL/HIGH/12.703",
          "F/55/HIGH/HIGH/10.977",
          "M/68/HIGH/HIGH/11.009",
          "M/49/LOW/NORMAL/11.014",
          "M/16/LOW/HIGH/12.006",
          "M/22/NORMAL/HIGH/11.953",
          "M/41/LOW/HIGH/11.037",
          "M/31/HIGH/NORMAL/11.227",
          "F/20/LOW/NORMAL/11.686",
          "F/20/HIGH/HIGH/11.262",
          "M/69/LOW/NORMAL/11.455",
          "M/36/LOW/NORMAL/11.424",
          "F/40/LOW/NORMAL/11.349",
          "F/53/HIGH/NORMAL/12.495",
          "F/24/HIGH/NORMAL/18.457",
          "M/47/LOW/HIGH/10.114",
          "M/53/NORMAL/HIGH/14.133",
          "M/51/HIGH/HIGH/18.295",
          "M/39/HIGH/HIGH/9.664",
          "M/45/LOW/HIGH/17.951",
          "F/50/NORMAL/NORMAL/17.211",
          "M/72/HIGH/NORMAL/9.677",
          "M/23/NORMAL/HIGH/16.85",
          "F/36/NORMAL/HIGH/16.753",
          "F/15/HIGH/NORMAL/16.725",
          "F/32/LOW/HIGH/9.712",
          "M/70/HIGH/HIGH/9.849",
          "M/52/NORMAL/HIGH/9.894",
          "M/72/LOW/HIGH/16.31",
          "M/23/NORMAL/NORMAL/14.02",
          "F/49/NORMAL/HIGH/16.275",
          "F/57/HIGH/NORMAL/9.945",
          "F/69/NORMAL/HIGH/10.065",
          "F/36/HIGH/NORMAL/15.49",
          "M/69/LOW/HIGH/15.478",
          "M/60/NORMAL/HIGH/15.171",
          "F/40/NORMAL/HIGH/10.103",
          "F/48/LOW/HIGH/15.036",
          "M/56/LOW/HIGH/15.015",
          "F/72/LOW/NORMAL/14.642",
          "F/58/HIGH/NORMAL/14.239",
          "F/57/NORMAL/HIGH/14.216",
          "F/26/LOW/HIGH/14.16",
          "M/39/NORMAL/HIGH/15.969",
          "F/39/NORMAL/NORMAL/17.225",
          "F/18/HIGH/HIGH",
          "F/19/HIGH/HIGH",
          "F/20/HIGH/HIGH",
          "F/23/HIGH/HIGH",
          "M/23/HIGH/HIGH",
          "F/29/HIGH/HIGH",
          "M/29/HIGH/HIGH",
          "M/31/HIGH/HIGH",
          "M/34/HIGH/HIGH",
          "F/35/HIGH/HIGH",
          "F/36/HIGH/HIGH",
          "F/37/HIGH/HIGH",
          "M/39/HIGH/HIGH",
          "M/40/HIGH/HIGH",
          "F/42/HIGH/HIGH",
          "M/43/HIGH/HIGH",
          "F/45/HIGH/HIGH",
          "F/46/HIGH/HIGH",
          "M/47/HIGH/HIGH",
          "M/50/HIGH/HIGH",
          "M/51/HIGH/HIGH",
          "F/55/HIGH/HIGH",
          "F/56/HIGH/HIGH",
          "F/58/HIGH/HIGH",
          "M/58/HIGH/HIGH",
          "M/59/HIGH/HIGH",
          "F/60/HIGH/HIGH",
          "M/60/HIGH/HIGH",
          "F/61/HIGH/HIGH",
          "M/66/HIGH/HIGH",
          "M/68/HIGH/HIGH",
          "M/70/HIGH/HIGH",
          "F/73/HIGH/HIGH",
          "M/74/HIGH/HIGH",
          "M/16/LOW/HIGH",
          "M/22/LOW/HIGH",
          "M/23/LOW/HIGH",
          "F/26/LOW/HIGH",
          "F/28/LOW/HIGH",
          "F/32/LOW/HIGH",
          "F/33/LOW/HIGH",
          "M/38/LOW/HIGH",
          "M/41/LOW/HIGH",
          "M/42/LOW/HIGH",
          "M/43/LOW/HIGH",
          "M/45/LOW/HIGH",
          "F/47/LOW/HIGH",
          "M/47/LOW/HIGH",
          "F/48/LOW/HIGH",
          "M/49/LOW/HIGH",
          "M/53/LOW/HIGH",
          "F/56/LOW/HIGH",
          "M/56/LOW/HIGH",
          "F/58/LOW/HIGH",
          "F/59/LOW/HIGH",
          "F/61/LOW/HIGH",
          "M/68/LOW/HIGH",
          "M/69/LOW/HIGH",
          "M/72/LOW/HIGH",
          "F/74/LOW/HIGH",
          "M/15/NORMAL/HIGH",
          "F/22/NORMAL/HIGH",
          "M/22/NORMAL/HIGH",
          "M/23/NORMAL/HIGH",
          "F/24/NORMAL/HIGH",
          "M/24/NORMAL/HIGH",
          "M/25/NORMAL/HIGH",
          "F/28/NORMAL/HIGH",
          "M/28/NORMAL/HIGH",
          "F/30/NORMAL/HIGH",
          "F/32/NORMAL/HIGH",
          "M/34/NORMAL/HIGH",
          "F/36/NORMAL/HIGH",
          "M/39/NORMAL/HIGH",
          "F/40/NORMAL/HIGH",
          "F/49/NORMAL/HIGH",
          "F/50/NORMAL/HIGH",
          "F/51/NORMAL/HIGH",
          "M/52/NORMAL/HIGH",
          "M/53/NORMAL/HIGH",
          "M/54/NORMAL/HIGH",
          "M/56/NORMAL/HIGH",
          "F/57/NORMAL/HIGH",
          "F/59/NORMAL/HIGH",
          "M/60/NORMAL/HIGH",
          "M/61/NORMAL/HIGH",
          "M/62/NORMAL/HIGH",
          "M/63/NORMAL/HIGH",
          "M/64/NORMAL/HIGH",
          "F/67/NORMAL/HIGH",
          "F/69/NORMAL/HIGH",
          "F/70/NORMAL/HIGH",
          "F/73/NORMAL/HIGH",
          "F/15/HIGH/NORMAL",
          "M/15/HIGH/NORMAL",
          "F/16/HIGH/NORMAL",
          "M/16/HIGH/NORMAL",
          "F/18/HIGH/NORMAL",
          "F/19/HIGH/NORMAL",
          "M/20/HIGH/NORMAL",
          "F/21/HIGH/NORMAL",
          "F/22/HIGH/NORMAL",
          "M/22/HIGH/NORMAL",
          "F/24/HIGH/NORMAL",
          "M/24/HIGH/NORMAL",
          "F/26/HIGH/NORMAL",
          "F/28/HIGH/NORMAL",
          "M/31/HIGH/NORMAL",
          "F/32/HIGH/NORMAL",
          "M/32/HIGH/NORMAL",
          "F/34/HIGH/NORMAL",
          "F/36/HIGH/NORMAL",
          "F/37/HIGH/NORMAL",
          "F/38/HIGH/NORMAL",
          "M/41/HIGH/NORMAL",
          "M/42/HIGH/NORMAL",
          "M/48/HIGH/NORMAL",
          "M/49/HIGH/NORMAL",
          "M/51/HIGH/NORMAL",
          "F/53/HIGH/NORMAL",
          "F/57/HIGH/NORMAL",
          "F/58/HIGH/NORMAL",
          "M/60/HIGH/NORMAL",
          "M/64/HIGH/NORMAL",
          "F/65/HIGH/NORMAL",
          "M/65/HIGH/NORMAL",
          "F/68/HIGH/NORMAL",
          "M/72/HIGH/NORMAL",
          "M/74/HIGH/NORMAL",
          "F/20/LOW/NORMAL",
          "M/26/LOW/NORMAL",
          "F/32/LOW/NORMAL",
          "F/34/LOW/NORMAL",
          "M/35/LOW/NORMAL",
          "M/36/LOW/NORMAL",
          "F/37/LOW/NORMAL",
          "M/37/LOW/NORMAL",
          "F/38/LOW/NORMAL",
          "F/39/LOW/NORMAL",
          "M/39/LOW/NORMAL",
          "F/40/LOW/NORMAL",
          "F/41/LOW/NORMAL",
          "F/42/LOW/NORMAL",
          "M/43/LOW/NORMAL",
          "M/45/LOW/NORMAL",
          "M/47/LOW/NORMAL",
          "M/49/LOW/NORMAL",
          "F/51/LOW/NORMAL",
          "M/52/LOW/NORMAL",
          "M/57/LOW/NORMAL",
          "F/61/LOW/NORMAL",
          "M/62/LOW/NORMAL",
          "F/64/LOW/NORMAL",
          "F/65/LOW/NORMAL",
          "M/67/LOW/NORMAL",
          "M/69/LOW/NORMAL",
          "F/72/LOW/NORMAL",
          "M/74/LOW/NORMAL",
          "M/17/NORMAL/NORMAL",
          "F/18/NORMAL/NORMAL",
          "F/20/NORMAL/NORMAL",
          "M/23/NORMAL/NORMAL",
          "M/35/NORMAL/NORMAL",
          "F/39/NORMAL/NORMAL",
          "F/41/NORMAL/NORMAL",
          "M/43/NORMAL/NORMAL",
          "M/46/NORMAL/NORMAL",
          "F/47/NORMAL/NORMAL",
          "F/49/NORMAL/NORMAL",
          "F/50/NORMAL/NORMAL",
          "M/50/NORMAL/NORMAL",
          "M/55/NORMAL/NORMAL",
          "F/57/NORMAL/NORMAL",
          "M/60/NORMAL/NORMAL",
          "F/66/NORMAL/NORMAL",
          "M/67/NORMAL/NORMAL",
          "F/68/NORMAL/NORMAL",
          "F/15/HIGH",
          "M/15/HIGH",
          "F/16/HIGH",
          "M/16/HIGH",
          "F/18/HIGH",
          "F/19/HIGH",
          "F/20/HIGH",
          "M/20/HIGH",
          "F/21/HIGH",
          "F/22/HIGH",
          "M/22/HIGH",
          "F/23/HIGH",
          "M/23/HIGH",
          "F/24/HIGH",
          "M/24/HIGH",
          "F/26/HIGH",
          "F/28/HIGH",
          "F/29/HIGH",
          "M/29/HIGH",
          "M/31/HIGH",
          "F/32/HIGH",
          "M/32/HIGH",
          "F/34/HIGH",
          "M/34/HIGH",
          "F/35/HIGH",
          "F/36/HIGH",
          "F/37/HIGH",
          "F/38/HIGH",
          "M/39/HIGH",
          "M/40/HIGH",
          "M/41/HIGH",
          "F/42/HIGH",
          "M/42/HIGH",
          "M/43/HIGH",
          "F/45/HIGH",
          "F/46/HIGH",
          "M/47/HIGH",
          "M/48/HIGH",
          "M/49/HIGH",
          "M/50/HIGH",
          "M/51/HIGH",
          "F/53/HIGH",
          "F/55/HIGH",
          "F/56/HIGH",
          "F/57/HIGH",
          "F/58/HIGH",
          "M/58/HIGH",
          "M/59/HIGH",
          "F/60/HIGH",
          "M/60/HIGH",
          "F/61/HIGH",
          "M/64/HIGH",
          "F/65/HIGH",
          "M/65/HIGH",
          "M/66/HIGH",
          "F/68/HIGH",
          "M/68/HIGH",
          "M/70/HIGH",
          "M/72/HIGH",
          "F/73/HIGH",
          "M/74/HIGH",
          "M/16/LOW",
          "F/20/LOW",
          "M/22/LOW",
          "M/23/LOW",
          "F/26/LOW",
          "M/26/LOW",
          "F/28/LOW",
          "F/32/LOW",
          "F/33/LOW",
          "F/34/LOW",
          "M/35/LOW",
          "M/36/LOW",
          "F/37/LOW",
          "M/37/LOW",
          "F/38/LOW",
          "M/38/LOW",
          "F/39/LOW",
          "M/39/LOW",
          "F/40/LOW",
          "F/41/LOW",
          "M/41/LOW",
          "F/42/LOW",
          "M/42/LOW",
          "M/43/LOW",
          "M/45/LOW",
          "F/47/LOW",
          "M/47/LOW",
          "F/48/LOW",
          "M/49/LOW",
          "F/51/LOW",
          "M/52/LOW",
          "M/53/LOW",
          "F/56/LOW",
          "M/56/LOW",
          "M/57/LOW",
          "F/58/LOW",
          "F/59/LOW",
          "F/61/LOW",
          "M/62/LOW",
          "F/64/LOW",
          "F/65/LOW",
          "M/67/LOW",
          "M/68/LOW",
          "M/69/LOW",
          "F/72/LOW",
          "M/72/LOW",
          "F/74/LOW",
          "M/74/LOW",
          "M/15/NORMAL",
          "M/17/NORMAL",
          "F/18/NORMAL",
          "F/20/NORMAL",
          "F/22/NORMAL",
          "M/22/NORMAL",
          "M/23/NORMAL",
          "F/24/NORMAL",
          "M/24/NORMAL",
          "M/25/NORMAL",
          "F/28/NORMAL",
          "M/28/NORMAL",
          "F/30/NORMAL",
          "F/32/NORMAL",
          "M/34/NORMAL",
          "M/35/NORMAL",
          "F/36/NORMAL",
          "F/39/NORMAL",
          "M/39/NORMAL",
          "F/40/NORMAL",
          "F/41/NORMAL",
          "M/43/NORMAL",
          "M/46/NORMAL",
          "F/47/NORMAL",
          "F/49/NORMAL",
          "F/50/NORMAL",
          "M/50/NORMAL",
          "F/51/NORMAL",
          "M/52/NORMAL",
          "M/53/NORMAL",
          "M/54/NORMAL",
          "M/55/NORMAL",
          "M/56/NORMAL",
          "F/57/NORMAL",
          "F/59/NORMAL",
          "M/60/NORMAL",
          "M/61/NORMAL",
          "M/62/NORMAL",
          "M/63/NORMAL",
          "M/64/NORMAL",
          "F/66/NORMAL",
          "F/67/NORMAL",
          "M/67/NORMAL",
          "F/68/NORMAL",
          "F/69/NORMAL",
          "F/70/NORMAL",
          "F/73/NORMAL",
          "F/15",
          "M/15",
          "F/16",
          "M/16",
          "M/17",
          "F/18",
          "F/19",
          "F/20",
          "M/20",
          "F/21",
          "F/22",
          "M/22",
          "F/23",
          "M/23",
          "F/24",
          "M/24",
          "M/25",
          "F/26",
          "M/26",
          "F/28",
          "M/28",
          "F/29",
          "M/29",
          "F/30",
          "M/31",
          "F/32",
          "M/32",
          "F/33",
          "F/34",
          "M/34",
          "F/35",
          "M/35",
          "F/36",
          "M/36",
          "F/37",
          "M/37",
          "F/38",
          "M/38",
          "F/39",
          "M/39",
          "F/40",
          "M/40",
          "F/41",
          "M/41",
          "F/42",
          "M/42",
          "M/43",
          "F/45",
          "M/45",
          "F/46",
          "M/46",
          "F/47",
          "M/47",
          "F/48",
          "M/48",
          "F/49",
          "M/49",
          "F/50",
          "M/50",
          "F/51",
          "M/51",
          "M/52",
          "F/53",
          "M/53",
          "M/54",
          "F/55",
          "M/55",
          "F/56",
          "M/56",
          "F/57",
          "M/57",
          "F/58",
          "M/58",
          "F/59",
          "M/59",
          "F/60",
          "M/60",
          "F/61",
          "M/61",
          "M/62",
          "M/63",
          "F/64",
          "M/64",
          "F/65",
          "M/65",
          "F/66",
          "M/66",
          "F/67",
          "M/67",
          "F/68",
          "M/68",
          "F/69",
          "M/69",
          "F/70",
          "M/70",
          "F/72",
          "M/72",
          "F/73",
          "F/74",
          "M/74",
          "F",
          "M"
         ],
         "labels": [
          "6.269",
          "16.724",
          "16.594",
          "16.347",
          "15.891",
          "15.79",
          "15.516",
          "15.436",
          "15.376",
          "15.156",
          "13.972",
          "13.967",
          "13.884",
          "13.769",
          "17.069",
          "13.313",
          "13.091",
          "12.923",
          "12.879",
          "12.856",
          "12.854",
          "12.766",
          "12.307",
          "12.295",
          "12.26",
          "12.006",
          "11.939",
          "11.871",
          "11.767",
          "13.303",
          "17.206",
          "18.043",
          "18.295",
          "34.686",
          "33.542",
          "29.271",
          "28.632",
          "28.294",
          "27.826",
          "27.183",
          "27.064",
          "27.05",
          "25.917",
          "25.786",
          "25.741",
          "25.395",
          "25.355",
          "24.658",
          "24.276",
          "23.091",
          "22.905",
          "22.697",
          "22.456",
          "21.036",
          "20.942",
          "20.013",
          "19.221",
          "19.199",
          "19.161",
          "18.809",
          "18.703",
          "18.348",
          "11.567",
          "11.343",
          "13.935",
          "38.247",
          "7.798",
          "10.292",
          "10.291",
          "7.845",
          "10.189",
          "8.151",
          "8.37",
          "8.75",
          "10.444",
          "10.091",
          "10.017",
          "9.17",
          "9.281",
          "9.381",
          "9.709",
          "11.34",
          "9.567",
          "9.445",
          "10.067",
          "10.446",
          "8.107",
          "9.475",
          "11.198",
          "7.261",
          "7.285",
          "10.84",
          "10.832",
          "10.898",
          "7.298",
          "7.34",
          "18.991",
          "20.909",
          "20.693",
          "20.489",
          "19.796",
          "19.675",
          "19.416",
          "19.368",
          "32.922",
          "33.486",
          "6.769",
          "9.443",
          "31.876",
          "19.128",
          "6.683",
          "35.639",
          "34.997",
          "19.011",
          "19.007",
          "20.932",
          "7.49",
          "8.968",
          "7.761",
          "26.645",
          "25.974",
          "25.969",
          "25.893",
          "8.011",
          "25.475",
          "18.739",
          "29.45",
          "9.084",
          "29.875",
          "8.621",
          "23.003",
          "22.963",
          "8.7",
          "22.818",
          "30.366",
          "8.966",
          "7.477",
          "31.686",
          "8.607",
          "30.568",
          "11.326",
          "9.514",
          "37.188",
          "13.934",
          "13.598",
          "13.597",
          "10.403",
          "10.443",
          "13.127",
          "13.093",
          "12.894",
          "10.537",
          "12.859",
          "10.605",
          "13.938",
          "12.703",
          "10.977",
          "11.009",
          "11.014",
          "12.006",
          "11.953",
          "11.037",
          "11.227",
          "11.686",
          "11.262",
          "11.455",
          "11.424",
          "11.349",
          "12.495",
          "18.457",
          "10.114",
          "14.133",
          "18.295",
          "9.664",
          "17.951",
          "17.211",
          "9.677",
          "16.85",
          "16.753",
          "16.725",
          "9.712",
          "9.849",
          "9.894",
          "16.31",
          "14.02",
          "16.275",
          "9.945",
          "10.065",
          "15.49",
          "15.478",
          "15.171",
          "10.103",
          "15.036",
          "15.015",
          "14.642",
          "14.239",
          "14.216",
          "14.16",
          "15.969",
          "17.225",
          "HIGH",
          "HIGH",
          "HIGH",
          "HIGH",
          "HIGH",
          "HIGH",
          "HIGH",
          "HIGH",
          "HIGH",
          "HIGH",
          "HIGH",
          "HIGH",
          "HIGH",
          "HIGH",
          "HIGH",
          "HIGH",
          "HIGH",
          "HIGH",
          "HIGH",
          "HIGH",
          "HIGH",
          "HIGH",
          "HIGH",
          "HIGH",
          "HIGH",
          "HIGH",
          "HIGH",
          "HIGH",
          "HIGH",
          "HIGH",
          "HIGH",
          "HIGH",
          "HIGH",
          "HIGH",
          "HIGH",
          "HIGH",
          "HIGH",
          "HIGH",
          "HIGH",
          "HIGH",
          "HIGH",
          "HIGH",
          "HIGH",
          "HIGH",
          "HIGH",
          "HIGH",
          "HIGH",
          "HIGH",
          "HIGH",
          "HIGH",
          "HIGH",
          "HIGH",
          "HIGH",
          "HIGH",
          "HIGH",
          "HIGH",
          "HIGH",
          "HIGH",
          "HIGH",
          "HIGH",
          "HIGH",
          "HIGH",
          "HIGH",
          "HIGH",
          "HIGH",
          "HIGH",
          "HIGH",
          "HIGH",
          "HIGH",
          "HIGH",
          "HIGH",
          "HIGH",
          "HIGH",
          "HIGH",
          "HIGH",
          "HIGH",
          "HIGH",
          "HIGH",
          "HIGH",
          "HIGH",
          "HIGH",
          "HIGH",
          "HIGH",
          "HIGH",
          "HIGH",
          "HIGH",
          "HIGH",
          "HIGH",
          "HIGH",
          "HIGH",
          "HIGH",
          "HIGH",
          "HIGH",
          "NORMAL",
          "NORMAL",
          "NORMAL",
          "NORMAL",
          "NORMAL",
          "NORMAL",
          "NORMAL",
          "NORMAL",
          "NORMAL",
          "NORMAL",
          "NORMAL",
          "NORMAL",
          "NORMAL",
          "NORMAL",
          "NORMAL",
          "NORMAL",
          "NORMAL",
          "NORMAL",
          "NORMAL",
          "NORMAL",
          "NORMAL",
          "NORMAL",
          "NORMAL",
          "NORMAL",
          "NORMAL",
          "NORMAL",
          "NORMAL",
          "NORMAL",
          "NORMAL",
          "NORMAL",
          "NORMAL",
          "NORMAL",
          "NORMAL",
          "NORMAL",
          "NORMAL",
          "NORMAL",
          "NORMAL",
          "NORMAL",
          "NORMAL",
          "NORMAL",
          "NORMAL",
          "NORMAL",
          "NORMAL",
          "NORMAL",
          "NORMAL",
          "NORMAL",
          "NORMAL",
          "NORMAL",
          "NORMAL",
          "NORMAL",
          "NORMAL",
          "NORMAL",
          "NORMAL",
          "NORMAL",
          "NORMAL",
          "NORMAL",
          "NORMAL",
          "NORMAL",
          "NORMAL",
          "NORMAL",
          "NORMAL",
          "NORMAL",
          "NORMAL",
          "NORMAL",
          "NORMAL",
          "NORMAL",
          "NORMAL",
          "NORMAL",
          "NORMAL",
          "NORMAL",
          "NORMAL",
          "NORMAL",
          "NORMAL",
          "NORMAL",
          "NORMAL",
          "NORMAL",
          "NORMAL",
          "NORMAL",
          "NORMAL",
          "NORMAL",
          "NORMAL",
          "NORMAL",
          "NORMAL",
          "NORMAL",
          "HIGH",
          "HIGH",
          "HIGH",
          "HIGH",
          "HIGH",
          "HIGH",
          "HIGH",
          "HIGH",
          "HIGH",
          "HIGH",
          "HIGH",
          "HIGH",
          "HIGH",
          "HIGH",
          "HIGH",
          "HIGH",
          "HIGH",
          "HIGH",
          "HIGH",
          "HIGH",
          "HIGH",
          "HIGH",
          "HIGH",
          "HIGH",
          "HIGH",
          "HIGH",
          "HIGH",
          "HIGH",
          "HIGH",
          "HIGH",
          "HIGH",
          "HIGH",
          "HIGH",
          "HIGH",
          "HIGH",
          "HIGH",
          "HIGH",
          "HIGH",
          "HIGH",
          "HIGH",
          "HIGH",
          "HIGH",
          "HIGH",
          "HIGH",
          "HIGH",
          "HIGH",
          "HIGH",
          "HIGH",
          "HIGH",
          "HIGH",
          "HIGH",
          "HIGH",
          "HIGH",
          "HIGH",
          "HIGH",
          "HIGH",
          "HIGH",
          "HIGH",
          "HIGH",
          "HIGH",
          "HIGH",
          "LOW",
          "LOW",
          "LOW",
          "LOW",
          "LOW",
          "LOW",
          "LOW",
          "LOW",
          "LOW",
          "LOW",
          "LOW",
          "LOW",
          "LOW",
          "LOW",
          "LOW",
          "LOW",
          "LOW",
          "LOW",
          "LOW",
          "LOW",
          "LOW",
          "LOW",
          "LOW",
          "LOW",
          "LOW",
          "LOW",
          "LOW",
          "LOW",
          "LOW",
          "LOW",
          "LOW",
          "LOW",
          "LOW",
          "LOW",
          "LOW",
          "LOW",
          "LOW",
          "LOW",
          "LOW",
          "LOW",
          "LOW",
          "LOW",
          "LOW",
          "LOW",
          "LOW",
          "LOW",
          "LOW",
          "LOW",
          "NORMAL",
          "NORMAL",
          "NORMAL",
          "NORMAL",
          "NORMAL",
          "NORMAL",
          "NORMAL",
          "NORMAL",
          "NORMAL",
          "NORMAL",
          "NORMAL",
          "NORMAL",
          "NORMAL",
          "NORMAL",
          "NORMAL",
          "NORMAL",
          "NORMAL",
          "NORMAL",
          "NORMAL",
          "NORMAL",
          "NORMAL",
          "NORMAL",
          "NORMAL",
          "NORMAL",
          "NORMAL",
          "NORMAL",
          "NORMAL",
          "NORMAL",
          "NORMAL",
          "NORMAL",
          "NORMAL",
          "NORMAL",
          "NORMAL",
          "NORMAL",
          "NORMAL",
          "NORMAL",
          "NORMAL",
          "NORMAL",
          "NORMAL",
          "NORMAL",
          "NORMAL",
          "NORMAL",
          "NORMAL",
          "NORMAL",
          "NORMAL",
          "NORMAL",
          "NORMAL",
          "15",
          "15",
          "16",
          "16",
          "17",
          "18",
          "19",
          "20",
          "20",
          "21",
          "22",
          "22",
          "23",
          "23",
          "24",
          "24",
          "25",
          "26",
          "26",
          "28",
          "28",
          "29",
          "29",
          "30",
          "31",
          "32",
          "32",
          "33",
          "34",
          "34",
          "35",
          "35",
          "36",
          "36",
          "37",
          "37",
          "38",
          "38",
          "39",
          "39",
          "40",
          "40",
          "41",
          "41",
          "42",
          "42",
          "43",
          "45",
          "45",
          "46",
          "46",
          "47",
          "47",
          "48",
          "48",
          "49",
          "49",
          "50",
          "50",
          "51",
          "51",
          "52",
          "53",
          "53",
          "54",
          "55",
          "55",
          "56",
          "56",
          "57",
          "57",
          "58",
          "58",
          "59",
          "59",
          "60",
          "60",
          "61",
          "61",
          "62",
          "63",
          "64",
          "64",
          "65",
          "65",
          "66",
          "66",
          "67",
          "67",
          "68",
          "68",
          "69",
          "69",
          "70",
          "70",
          "72",
          "72",
          "73",
          "74",
          "74",
          "F",
          "M"
         ],
         "marker": {
          "colors": [
           "#636efa",
           "#636efa",
           "#636efa",
           "#636efa",
           "#EF553B",
           "#636efa",
           "#EF553B",
           "#636efa",
           "#636efa",
           "#636efa",
           "#636efa",
           "#636efa",
           "#EF553B",
           "#EF553B",
           "#636efa",
           "#EF553B",
           "#EF553B",
           "#EF553B",
           "#EF553B",
           "#636efa",
           "#EF553B",
           "#636efa",
           "#EF553B",
           "#EF553B",
           "#636efa",
           "#EF553B",
           "#636efa",
           "#636efa",
           "#EF553B",
           "#EF553B",
           "#636efa",
           "#EF553B",
           "#636efa",
           "#EF553B",
           "#636efa",
           "#EF553B",
           "#EF553B",
           "#636efa",
           "#636efa",
           "#636efa",
           "#636efa",
           "#EF553B",
           "#636efa",
           "#636efa",
           "#EF553B",
           "#EF553B",
           "#EF553B",
           "#636efa",
           "#EF553B",
           "#EF553B",
           "#EF553B",
           "#EF553B",
           "#636efa",
           "#EF553B",
           "#EF553B",
           "#636efa",
           "#EF553B",
           "#EF553B",
           "#EF553B",
           "#EF553B",
           "#636efa",
           "#EF553B",
           "#EF553B",
           "#636efa",
           "#636efa",
           "#EF553B",
           "#EF553B",
           "#EF553B",
           "#636efa",
           "#636efa",
           "#EF553B",
           "#636efa",
           "#636efa",
           "#EF553B",
           "#EF553B",
           "#636efa",
           "#636efa",
           "#636efa",
           "#EF553B",
           "#EF553B",
           "#EF553B",
           "#636efa",
           "#636efa",
           "#636efa",
           "#EF553B",
           "#636efa",
           "#EF553B",
           "#636efa",
           "#EF553B",
           "#636efa",
           "#636efa",
           "#EF553B",
           "#636efa",
           "#636efa",
           "#636efa",
           "#EF553B",
           "#636efa",
           "#636efa",
           "#636efa",
           "#EF553B",
           "#EF553B",
           "#EF553B",
           "#EF553B",
           "#636efa",
           "#636efa",
           "#EF553B",
           "#636efa",
           "#636efa",
           "#EF553B",
           "#636efa",
           "#EF553B",
           "#636efa",
           "#636efa",
           "#636efa",
           "#636efa",
           "#636efa",
           "#636efa",
           "#636efa",
           "#636efa",
           "#EF553B",
           "#EF553B",
           "#EF553B",
           "#EF553B",
           "#636efa",
           "#EF553B",
           "#EF553B",
           "#EF553B",
           "#636efa",
           "#EF553B",
           "#636efa",
           "#EF553B",
           "#636efa",
           "#636efa",
           "#EF553B",
           "#636efa",
           "#636efa",
           "#EF553B",
           "#636efa",
           "#EF553B",
           "#636efa",
           "#EF553B",
           "#636efa",
           "#EF553B",
           "#636efa",
           "#636efa",
           "#EF553B",
           "#636efa",
           "#EF553B",
           "#EF553B",
           "#636efa",
           "#EF553B",
           "#636efa",
           "#636efa",
           "#EF553B",
           "#636efa",
           "#EF553B",
           "#EF553B",
           "#636efa",
           "#636efa",
           "#636efa",
           "#636efa",
           "#636efa",
           "#636efa",
           "#EF553B",
           "#EF553B",
           "#636efa",
           "#636efa",
           "#EF553B",
           "#EF553B",
           "#EF553B",
           "#636efa",
           "#636efa",
           "#636efa",
           "#636efa",
           "#636efa",
           "#EF553B",
           "#636efa",
           "#636efa",
           "#EF553B",
           "#EF553B",
           "#EF553B",
           "#636efa",
           "#636efa",
           "#636efa",
           "#636efa",
           "#EF553B",
           "#EF553B",
           "#EF553B",
           "#EF553B",
           "#636efa",
           "#636efa",
           "#EF553B",
           "#EF553B",
           "#636efa",
           "#EF553B",
           "#EF553B",
           "#EF553B",
           "#EF553B",
           "#636efa",
           "#EF553B",
           "#EF553B",
           "#EF553B",
           "#EF553B",
           "#EF553B",
           "#636efa",
           "#EF553B",
           "#636efa",
           "#636efa",
           "#636efa",
           "#EF553B",
           "#EF553B",
           "#EF553B",
           "#636efa",
           "#636efa",
           "#EF553B",
           "#636efa",
           "#EF553B",
           "#EF553B",
           "#636efa",
           "#636efa",
           "#636efa",
           "#EF553B",
           "#EF553B",
           "#EF553B",
           "#636efa",
           "#636efa",
           "#EF553B",
           "#636efa",
           "#EF553B",
           "#636efa",
           "#636efa",
           "#636efa",
           "#EF553B",
           "#636efa",
           "#636efa",
           "#636efa",
           "#636efa",
           "#EF553B",
           "#EF553B",
           "#EF553B",
           "#EF553B",
           "#636efa",
           "#636efa",
           "#636efa",
           "#636efa",
           "#636efa",
           "#EF553B",
           "#636efa",
           "#EF553B",
           "#636efa",
           "#636efa",
           "#EF553B",
           "#636efa",
           "#EF553B",
           "#EF553B",
           "#EF553B",
           "#636efa",
           "#636efa",
           "#636efa",
           "#EF553B",
           "#636efa",
           "#EF553B",
           "#636efa",
           "#636efa",
           "#EF553B",
           "#636efa",
           "#636efa",
           "#EF553B",
           "#636efa",
           "#EF553B",
           "#EF553B",
           "#636efa",
           "#EF553B",
           "#636efa",
           "#EF553B",
           "#EF553B",
           "#EF553B",
           "#EF553B",
           "#636efa",
           "#636efa",
           "#636efa",
           "#636efa",
           "#EF553B",
           "#EF553B",
           "#636efa",
           "#636efa",
           "#636efa",
           "#636efa",
           "#636efa",
           "#EF553B",
           "#EF553B",
           "#EF553B",
           "#EF553B",
           "#EF553B",
           "#636efa",
           "#EF553B",
           "#636efa",
           "#EF553B",
           "#EF553B",
           "#636efa",
           "#EF553B",
           "#EF553B",
           "#636efa",
           "#EF553B",
           "#636efa",
           "#EF553B",
           "#EF553B",
           "#636efa",
           "#EF553B",
           "#636efa",
           "#EF553B",
           "#EF553B",
           "#EF553B",
           "#EF553B",
           "#636efa",
           "#636efa",
           "#636efa",
           "#636efa",
           "#636efa",
           "#EF553B",
           "#EF553B",
           "#EF553B",
           "#636efa",
           "#636efa",
           "#EF553B",
           "#636efa",
           "#EF553B",
           "#636efa",
           "#636efa",
           "#EF553B",
           "#636efa",
           "#EF553B",
           "#EF553B",
           "#636efa",
           "#636efa",
           "#EF553B",
           "#636efa",
           "#EF553B",
           "#EF553B",
           "#636efa",
           "#EF553B",
           "#EF553B",
           "#EF553B",
           "#636efa",
           "#636efa",
           "#636efa",
           "#636efa",
           "#EF553B",
           "#636efa",
           "#636efa",
           "#EF553B",
           "#636efa",
           "#EF553B",
           "#EF553B",
           "#636efa",
           "#636efa",
           "#EF553B",
           "#636efa",
           "#636efa",
           "#EF553B",
           "#EF553B",
           "#636efa",
           "#636efa",
           "#EF553B",
           "#EF553B",
           "#636efa",
           "#636efa",
           "#EF553B",
           "#EF553B",
           "#EF553B",
           "#636efa",
           "#636efa",
           "#EF553B",
           "#636efa",
           "#EF553B",
           "#636efa",
           "#EF553B",
           "#EF553B",
           "#636efa",
           "#EF553B",
           "#636efa",
           "#EF553B",
           "#EF553B",
           "#EF553B",
           "#636efa",
           "#EF553B",
           "#EF553B",
           "#636efa",
           "#EF553B",
           "#636efa",
           "#EF553B",
           "#636efa",
           "#EF553B",
           "#EF553B",
           "#EF553B",
           "#636efa",
           "#636efa",
           "#EF553B",
           "#636efa",
           "#EF553B",
           "#636efa",
           "#EF553B",
           "#EF553B",
           "#EF553B",
           "#EF553B",
           "#636efa",
           "#636efa",
           "#636efa",
           "#EF553B",
           "#636efa",
           "#636efa",
           "#EF553B",
           "#EF553B",
           "#636efa",
           "#636efa",
           "#636efa",
           "#636efa",
           "#636efa",
           "#EF553B",
           "#EF553B",
           "#EF553B",
           "#EF553B",
           "#EF553B",
           "#636efa",
           "#636efa",
           "#EF553B",
           "#636efa",
           "#EF553B",
           "#636efa",
           "#EF553B",
           "#636efa",
           "#636efa",
           "#EF553B",
           "#636efa",
           "#636efa",
           "#636efa",
           "#EF553B",
           "#636efa",
           "#636efa",
           "#EF553B",
           "#636efa",
           "#636efa",
           "#EF553B",
           "#636efa",
           "#EF553B",
           "#EF553B",
           "#EF553B",
           "#EF553B",
           "#636efa",
           "#636efa",
           "#EF553B",
           "#636efa",
           "#EF553B",
           "#636efa",
           "#EF553B",
           "#636efa",
           "#EF553B",
           "#EF553B",
           "#636efa",
           "#EF553B",
           "#636efa",
           "#636efa",
           "#636efa",
           "#EF553B",
           "#636efa",
           "#EF553B",
           "#636efa",
           "#EF553B",
           "#636efa",
           "#636efa",
           "#EF553B",
           "#636efa",
           "#636efa",
           "#EF553B",
           "#EF553B",
           "#EF553B",
           "#636efa",
           "#EF553B",
           "#EF553B",
           "#636efa",
           "#636efa",
           "#636efa",
           "#EF553B",
           "#636efa",
           "#EF553B",
           "#636efa",
           "#636efa",
           "#636efa",
           "#EF553B",
           "#EF553B",
           "#EF553B",
           "#636efa",
           "#636efa",
           "#EF553B",
           "#636efa",
           "#636efa",
           "#EF553B",
           "#636efa",
           "#EF553B",
           "#EF553B",
           "#636efa",
           "#636efa",
           "#EF553B",
           "#EF553B",
           "#636efa",
           "#EF553B",
           "#EF553B",
           "#636efa",
           "#636efa",
           "#EF553B",
           "#EF553B",
           "#EF553B",
           "#636efa",
           "#EF553B",
           "#636efa",
           "#636efa",
           "#636efa",
           "#636efa",
           "#636efa",
           "#EF553B",
           "#EF553B",
           "#636efa",
           "#636efa",
           "#636efa",
           "#636efa",
           "#636efa",
           "#EF553B",
           "#EF553B",
           "#636efa",
           "#EF553B",
           "#EF553B",
           "#EF553B",
           "#EF553B",
           "#EF553B",
           "#636efa",
           "#EF553B",
           "#636efa",
           "#636efa",
           "#EF553B",
           "#EF553B",
           "#EF553B",
           "#636efa",
           "#EF553B",
           "#EF553B",
           "#636efa",
           "#EF553B",
           "#636efa",
           "#EF553B",
           "#636efa",
           "#636efa",
           "#EF553B",
           "#636efa",
           "#EF553B",
           "#636efa",
           "#EF553B",
           "#636efa",
           "#EF553B",
           "#636efa",
           "#EF553B",
           "#636efa",
           "#EF553B",
           "#EF553B",
           "#636efa",
           "#EF553B",
           "#636efa",
           "#EF553B",
           "#636efa",
           "#EF553B",
           "#636efa",
           "#EF553B",
           "#636efa",
           "#EF553B",
           "#636efa",
           "#EF553B",
           "#636efa",
           "#EF553B",
           "#636efa",
           "#EF553B",
           "#636efa",
           "#636efa",
           "#EF553B",
           "#636efa",
           "#EF553B",
           "#636efa",
           "#EF553B",
           "#636efa",
           "#EF553B",
           "#636efa",
           "#EF553B",
           "#636efa",
           "#EF553B",
           "#636efa",
           "#EF553B",
           "#636efa",
           "#636efa",
           "#EF553B",
           "#636efa",
           "#636efa",
           "#EF553B",
           "#636efa",
           "#EF553B",
           "#636efa",
           "#EF553B",
           "#636efa",
           "#EF553B",
           "#636efa",
           "#EF553B",
           "#636efa",
           "#EF553B",
           "#636efa",
           "#EF553B",
           "#636efa",
           "#636efa",
           "#636efa",
           "#EF553B",
           "#636efa",
           "#EF553B",
           "#636efa",
           "#EF553B",
           "#636efa",
           "#EF553B",
           "#636efa",
           "#EF553B",
           "#636efa",
           "#EF553B",
           "#636efa",
           "#EF553B",
           "#636efa",
           "#EF553B",
           "#636efa",
           "#EF553B",
           "#EF553B",
           "#636efa",
           "#EF553B",
           "#636efa"
          ]
         },
         "name": "",
         "parents": [
          "M/49/HIGH/NORMAL",
          "M/37/LOW/NORMAL",
          "M/62/NORMAL/HIGH",
          "M/66/HIGH/HIGH",
          "F/67/NORMAL/HIGH",
          "M/50/NORMAL/NORMAL",
          "F/16/HIGH/NORMAL",
          "M/74/HIGH/NORMAL",
          "M/43/LOW/HIGH",
          "M/41/HIGH/NORMAL",
          "M/43/HIGH/HIGH",
          "M/70/HIGH/HIGH",
          "F/59/NORMAL/HIGH",
          "F/65/LOW/NORMAL",
          "M/31/HIGH/NORMAL",
          "F/19/HIGH/HIGH",
          "F/37/HIGH/HIGH",
          "F/34/LOW/NORMAL",
          "F/28/NORMAL/HIGH",
          "M/29/HIGH/HIGH",
          "F/45/HIGH/HIGH",
          "M/42/HIGH/NORMAL",
          "F/26/HIGH/NORMAL",
          "F/50/NORMAL/NORMAL",
          "M/23/NORMAL/HIGH",
          "F/37/LOW/NORMAL",
          "M/74/LOW/NORMAL",
          "M/31/HIGH/NORMAL",
          "F/47/LOW/HIGH",
          "F/60/HIGH/HIGH",
          "M/15/HIGH/NORMAL",
          "F/61/LOW/HIGH",
          "M/38/LOW/HIGH",
          "F/46/HIGH/HIGH",
          "M/47/LOW/NORMAL",
          "F/42/LOW/NORMAL",
          "F/21/HIGH/NORMAL",
          "M/22/HIGH/NORMAL",
          "M/40/HIGH/HIGH",
          "M/62/LOW/NORMAL",
          "M/28/NORMAL/HIGH",
          "F/68/NORMAL/NORMAL",
          "M/63/NORMAL/HIGH",
          "M/24/NORMAL/HIGH",
          "F/64/LOW/NORMAL",
          "F/56/HIGH/HIGH",
          "F/23/HIGH/HIGH",
          "M/54/NORMAL/HIGH",
          "F/18/HIGH/NORMAL",
          "F/37/HIGH/NORMAL",
          "F/41/NORMAL/NORMAL",
          "F/39/LOW/NORMAL",
          "M/34/NORMAL/HIGH",
          "F/42/HIGH/HIGH",
          "F/74/LOW/HIGH",
          "M/42/LOW/HIGH",
          "F/73/NORMAL/HIGH",
          "F/34/HIGH/NORMAL",
          "F/26/HIGH/NORMAL",
          "F/28/HIGH/NORMAL",
          "M/34/HIGH/HIGH",
          "F/73/HIGH/HIGH",
          "F/56/LOW/HIGH",
          "M/51/HIGH/NORMAL",
          "M/59/HIGH/HIGH",
          "F/58/LOW/HIGH",
          "F/28/NORMAL/HIGH",
          "F/32/HIGH/NORMAL",
          "M/68/LOW/HIGH",
          "M/35/NORMAL/NORMAL",
          "F/68/HIGH/NORMAL",
          "M/22/LOW/HIGH",
          "M/45/LOW/NORMAL",
          "F/18/NORMAL/NORMAL",
          "F/59/LOW/HIGH",
          "M/60/NORMAL/NORMAL",
          "M/45/LOW/NORMAL",
          "M/35/LOW/NORMAL",
          "F/20/NORMAL/NORMAL",
          "F/49/NORMAL/NORMAL",
          "F/39/NORMAL/NORMAL",
          "M/65/HIGH/NORMAL",
          "M/74/HIGH/HIGH",
          "M/32/HIGH/NORMAL",
          "F/47/LOW/HIGH",
          "M/48/HIGH/NORMAL",
          "F/66/NORMAL/NORMAL",
          "M/24/HIGH/NORMAL",
          "F/36/HIGH/HIGH",
          "M/55/NORMAL/NORMAL",
          "M/46/NORMAL/NORMAL",
          "F/32/LOW/NORMAL",
          "M/17/NORMAL/NORMAL",
          "M/67/NORMAL/NORMAL",
          "M/23/LOW/HIGH",
          "F/61/LOW/NORMAL",
          "M/58/HIGH/HIGH",
          "M/26/LOW/NORMAL",
          "M/67/LOW/NORMAL",
          "F/70/NORMAL/HIGH",
          "F/28/LOW/HIGH",
          "F/28/NORMAL/HIGH",
          "F/58/HIGH/HIGH",
          "M/43/LOW/NORMAL",
          "M/52/LOW/NORMAL",
          "F/33/LOW/HIGH",
          "M/72/LOW/HIGH",
          "M/61/NORMAL/HIGH",
          "F/65/HIGH/NORMAL",
          "M/57/LOW/NORMAL",
          "F/47/NORMAL/NORMAL",
          "M/20/HIGH/NORMAL",
          "M/65/HIGH/NORMAL",
          "M/25/NORMAL/HIGH",
          "M/16/HIGH/NORMAL",
          "M/64/HIGH/NORMAL",
          "M/50/HIGH/HIGH",
          "M/37/LOW/NORMAL",
          "M/64/NORMAL/HIGH",
          "F/58/LOW/HIGH",
          "F/32/HIGH/NORMAL",
          "F/19/HIGH/NORMAL",
          "F/57/NORMAL/NORMAL",
          "M/23/HIGH/HIGH",
          "F/61/HIGH/HIGH",
          "F/41/LOW/NORMAL",
          "F/29/HIGH/HIGH",
          "M/15/NORMAL/HIGH",
          "F/38/LOW/NORMAL",
          "M/60/HIGH/NORMAL",
          "F/51/LOW/NORMAL",
          "M/53/LOW/HIGH",
          "M/49/HIGH/NORMAL",
          "F/22/HIGH/NORMAL",
          "M/31/HIGH/HIGH",
          "M/56/NORMAL/HIGH",
          "F/32/NORMAL/HIGH",
          "M/23/NORMAL/HIGH",
          "F/22/NORMAL/HIGH",
          "M/47/LOW/NORMAL",
          "F/38/HIGH/NORMAL",
          "M/67/NORMAL/NORMAL",
          "F/18/HIGH/HIGH",
          "M/60/HIGH/HIGH",
          "M/49/LOW/NORMAL",
          "F/51/NORMAL/HIGH",
          "M/47/HIGH/HIGH",
          "F/30/NORMAL/HIGH",
          "F/28/LOW/HIGH",
          "M/47/LOW/HIGH",
          "F/35/HIGH/HIGH",
          "M/49/LOW/HIGH",
          "M/43/NORMAL/NORMAL",
          "F/24/NORMAL/HIGH",
          "M/39/LOW/NORMAL",
          "F/50/NORMAL/HIGH",
          "F/55/HIGH/HIGH",
          "M/68/HIGH/HIGH",
          "M/49/LOW/NORMAL",
          "M/16/LOW/HIGH",
          "M/22/NORMAL/HIGH",
          "M/41/LOW/HIGH",
          "M/31/HIGH/NORMAL",
          "F/20/LOW/NORMAL",
          "F/20/HIGH/HIGH",
          "M/69/LOW/NORMAL",
          "M/36/LOW/NORMAL",
          "F/40/LOW/NORMAL",
          "F/53/HIGH/NORMAL",
          "F/24/HIGH/NORMAL",
          "M/47/LOW/HIGH",
          "M/53/NORMAL/HIGH",
          "M/51/HIGH/HIGH",
          "M/39/HIGH/HIGH",
          "M/45/LOW/HIGH",
          "F/50/NORMAL/NORMAL",
          "M/72/HIGH/NORMAL",
          "M/23/NORMAL/HIGH",
          "F/36/NORMAL/HIGH",
          "F/15/HIGH/NORMAL",
          "F/32/LOW/HIGH",
          "M/70/HIGH/HIGH",
          "M/52/NORMAL/HIGH",
          "M/72/LOW/HIGH",
          "M/23/NORMAL/NORMAL",
          "F/49/NORMAL/HIGH",
          "F/57/HIGH/NORMAL",
          "F/69/NORMAL/HIGH",
          "F/36/HIGH/NORMAL",
          "M/69/LOW/HIGH",
          "M/60/NORMAL/HIGH",
          "F/40/NORMAL/HIGH",
          "F/48/LOW/HIGH",
          "M/56/LOW/HIGH",
          "F/72/LOW/NORMAL",
          "F/58/HIGH/NORMAL",
          "F/57/NORMAL/HIGH",
          "F/26/LOW/HIGH",
          "M/39/NORMAL/HIGH",
          "F/39/NORMAL/NORMAL",
          "F/18/HIGH",
          "F/19/HIGH",
          "F/20/HIGH",
          "F/23/HIGH",
          "M/23/HIGH",
          "F/29/HIGH",
          "M/29/HIGH",
          "M/31/HIGH",
          "M/34/HIGH",
          "F/35/HIGH",
          "F/36/HIGH",
          "F/37/HIGH",
          "M/39/HIGH",
          "M/40/HIGH",
          "F/42/HIGH",
          "M/43/HIGH",
          "F/45/HIGH",
          "F/46/HIGH",
          "M/47/HIGH",
          "M/50/HIGH",
          "M/51/HIGH",
          "F/55/HIGH",
          "F/56/HIGH",
          "F/58/HIGH",
          "M/58/HIGH",
          "M/59/HIGH",
          "F/60/HIGH",
          "M/60/HIGH",
          "F/61/HIGH",
          "M/66/HIGH",
          "M/68/HIGH",
          "M/70/HIGH",
          "F/73/HIGH",
          "M/74/HIGH",
          "M/16/LOW",
          "M/22/LOW",
          "M/23/LOW",
          "F/26/LOW",
          "F/28/LOW",
          "F/32/LOW",
          "F/33/LOW",
          "M/38/LOW",
          "M/41/LOW",
          "M/42/LOW",
          "M/43/LOW",
          "M/45/LOW",
          "F/47/LOW",
          "M/47/LOW",
          "F/48/LOW",
          "M/49/LOW",
          "M/53/LOW",
          "F/56/LOW",
          "M/56/LOW",
          "F/58/LOW",
          "F/59/LOW",
          "F/61/LOW",
          "M/68/LOW",
          "M/69/LOW",
          "M/72/LOW",
          "F/74/LOW",
          "M/15/NORMAL",
          "F/22/NORMAL",
          "M/22/NORMAL",
          "M/23/NORMAL",
          "F/24/NORMAL",
          "M/24/NORMAL",
          "M/25/NORMAL",
          "F/28/NORMAL",
          "M/28/NORMAL",
          "F/30/NORMAL",
          "F/32/NORMAL",
          "M/34/NORMAL",
          "F/36/NORMAL",
          "M/39/NORMAL",
          "F/40/NORMAL",
          "F/49/NORMAL",
          "F/50/NORMAL",
          "F/51/NORMAL",
          "M/52/NORMAL",
          "M/53/NORMAL",
          "M/54/NORMAL",
          "M/56/NORMAL",
          "F/57/NORMAL",
          "F/59/NORMAL",
          "M/60/NORMAL",
          "M/61/NORMAL",
          "M/62/NORMAL",
          "M/63/NORMAL",
          "M/64/NORMAL",
          "F/67/NORMAL",
          "F/69/NORMAL",
          "F/70/NORMAL",
          "F/73/NORMAL",
          "F/15/HIGH",
          "M/15/HIGH",
          "F/16/HIGH",
          "M/16/HIGH",
          "F/18/HIGH",
          "F/19/HIGH",
          "M/20/HIGH",
          "F/21/HIGH",
          "F/22/HIGH",
          "M/22/HIGH",
          "F/24/HIGH",
          "M/24/HIGH",
          "F/26/HIGH",
          "F/28/HIGH",
          "M/31/HIGH",
          "F/32/HIGH",
          "M/32/HIGH",
          "F/34/HIGH",
          "F/36/HIGH",
          "F/37/HIGH",
          "F/38/HIGH",
          "M/41/HIGH",
          "M/42/HIGH",
          "M/48/HIGH",
          "M/49/HIGH",
          "M/51/HIGH",
          "F/53/HIGH",
          "F/57/HIGH",
          "F/58/HIGH",
          "M/60/HIGH",
          "M/64/HIGH",
          "F/65/HIGH",
          "M/65/HIGH",
          "F/68/HIGH",
          "M/72/HIGH",
          "M/74/HIGH",
          "F/20/LOW",
          "M/26/LOW",
          "F/32/LOW",
          "F/34/LOW",
          "M/35/LOW",
          "M/36/LOW",
          "F/37/LOW",
          "M/37/LOW",
          "F/38/LOW",
          "F/39/LOW",
          "M/39/LOW",
          "F/40/LOW",
          "F/41/LOW",
          "F/42/LOW",
          "M/43/LOW",
          "M/45/LOW",
          "M/47/LOW",
          "M/49/LOW",
          "F/51/LOW",
          "M/52/LOW",
          "M/57/LOW",
          "F/61/LOW",
          "M/62/LOW",
          "F/64/LOW",
          "F/65/LOW",
          "M/67/LOW",
          "M/69/LOW",
          "F/72/LOW",
          "M/74/LOW",
          "M/17/NORMAL",
          "F/18/NORMAL",
          "F/20/NORMAL",
          "M/23/NORMAL",
          "M/35/NORMAL",
          "F/39/NORMAL",
          "F/41/NORMAL",
          "M/43/NORMAL",
          "M/46/NORMAL",
          "F/47/NORMAL",
          "F/49/NORMAL",
          "F/50/NORMAL",
          "M/50/NORMAL",
          "M/55/NORMAL",
          "F/57/NORMAL",
          "M/60/NORMAL",
          "F/66/NORMAL",
          "M/67/NORMAL",
          "F/68/NORMAL",
          "F/15",
          "M/15",
          "F/16",
          "M/16",
          "F/18",
          "F/19",
          "F/20",
          "M/20",
          "F/21",
          "F/22",
          "M/22",
          "F/23",
          "M/23",
          "F/24",
          "M/24",
          "F/26",
          "F/28",
          "F/29",
          "M/29",
          "M/31",
          "F/32",
          "M/32",
          "F/34",
          "M/34",
          "F/35",
          "F/36",
          "F/37",
          "F/38",
          "M/39",
          "M/40",
          "M/41",
          "F/42",
          "M/42",
          "M/43",
          "F/45",
          "F/46",
          "M/47",
          "M/48",
          "M/49",
          "M/50",
          "M/51",
          "F/53",
          "F/55",
          "F/56",
          "F/57",
          "F/58",
          "M/58",
          "M/59",
          "F/60",
          "M/60",
          "F/61",
          "M/64",
          "F/65",
          "M/65",
          "M/66",
          "F/68",
          "M/68",
          "M/70",
          "M/72",
          "F/73",
          "M/74",
          "M/16",
          "F/20",
          "M/22",
          "M/23",
          "F/26",
          "M/26",
          "F/28",
          "F/32",
          "F/33",
          "F/34",
          "M/35",
          "M/36",
          "F/37",
          "M/37",
          "F/38",
          "M/38",
          "F/39",
          "M/39",
          "F/40",
          "F/41",
          "M/41",
          "F/42",
          "M/42",
          "M/43",
          "M/45",
          "F/47",
          "M/47",
          "F/48",
          "M/49",
          "F/51",
          "M/52",
          "M/53",
          "F/56",
          "M/56",
          "M/57",
          "F/58",
          "F/59",
          "F/61",
          "M/62",
          "F/64",
          "F/65",
          "M/67",
          "M/68",
          "M/69",
          "F/72",
          "M/72",
          "F/74",
          "M/74",
          "M/15",
          "M/17",
          "F/18",
          "F/20",
          "F/22",
          "M/22",
          "M/23",
          "F/24",
          "M/24",
          "M/25",
          "F/28",
          "M/28",
          "F/30",
          "F/32",
          "M/34",
          "M/35",
          "F/36",
          "F/39",
          "M/39",
          "F/40",
          "F/41",
          "M/43",
          "M/46",
          "F/47",
          "F/49",
          "F/50",
          "M/50",
          "F/51",
          "M/52",
          "M/53",
          "M/54",
          "M/55",
          "M/56",
          "F/57",
          "F/59",
          "M/60",
          "M/61",
          "M/62",
          "M/63",
          "M/64",
          "F/66",
          "F/67",
          "M/67",
          "F/68",
          "F/69",
          "F/70",
          "F/73",
          "F",
          "M",
          "F",
          "M",
          "M",
          "F",
          "F",
          "F",
          "M",
          "F",
          "F",
          "M",
          "F",
          "M",
          "F",
          "M",
          "M",
          "F",
          "M",
          "F",
          "M",
          "F",
          "M",
          "F",
          "M",
          "F",
          "M",
          "F",
          "F",
          "M",
          "F",
          "M",
          "F",
          "M",
          "F",
          "M",
          "F",
          "M",
          "F",
          "M",
          "F",
          "M",
          "F",
          "M",
          "F",
          "M",
          "M",
          "F",
          "M",
          "F",
          "M",
          "F",
          "M",
          "F",
          "M",
          "F",
          "M",
          "F",
          "M",
          "F",
          "M",
          "M",
          "F",
          "M",
          "M",
          "F",
          "M",
          "F",
          "M",
          "F",
          "M",
          "F",
          "M",
          "F",
          "M",
          "F",
          "M",
          "F",
          "M",
          "M",
          "M",
          "F",
          "M",
          "F",
          "M",
          "F",
          "M",
          "F",
          "M",
          "F",
          "M",
          "F",
          "M",
          "F",
          "M",
          "F",
          "M",
          "F",
          "F",
          "M",
          "",
          ""
         ],
         "type": "sunburst",
         "values": [
          1,
          5,
          5,
          5,
          5,
          5,
          5,
          5,
          5,
          5,
          1,
          2,
          4,
          4,
          5,
          1,
          1,
          4,
          4,
          1,
          1,
          1,
          1,
          4,
          4,
          4,
          4,
          1,
          3,
          2,
          5,
          5,
          5,
          5,
          5,
          5,
          5,
          5,
          5,
          5,
          5,
          5,
          5,
          5,
          5,
          5,
          5,
          5,
          5,
          5,
          5,
          5,
          5,
          5,
          5,
          5,
          5,
          5,
          5,
          5,
          5,
          5,
          3,
          2,
          2,
          5,
          4,
          1,
          3,
          4,
          2,
          3,
          4,
          4,
          3,
          4,
          4,
          4,
          4,
          4,
          4,
          2,
          2,
          1,
          3,
          1,
          4,
          1,
          1,
          4,
          4,
          4,
          4,
          4,
          3,
          4,
          5,
          5,
          5,
          5,
          5,
          5,
          5,
          5,
          5,
          5,
          3,
          4,
          5,
          5,
          4,
          5,
          5,
          5,
          5,
          5,
          1,
          4,
          4,
          5,
          5,
          5,
          5,
          1,
          5,
          5,
          5,
          4,
          5,
          2,
          5,
          5,
          1,
          5,
          5,
          4,
          4,
          5,
          4,
          5,
          1,
          4,
          5,
          2,
          4,
          4,
          1,
          4,
          3,
          3,
          1,
          3,
          4,
          4,
          4,
          4,
          2,
          2,
          4,
          3,
          4,
          3,
          1,
          4,
          1,
          4,
          4,
          4,
          2,
          5,
          3,
          4,
          5,
          1,
          5,
          5,
          2,
          5,
          5,
          5,
          3,
          2,
          4,
          5,
          4,
          5,
          2,
          4,
          5,
          5,
          5,
          4,
          5,
          5,
          4,
          2,
          4,
          3,
          5,
          5,
          5,
          1,
          1,
          5,
          1,
          5,
          1,
          5,
          5,
          1,
          1,
          1,
          1,
          5,
          5,
          1,
          1,
          5,
          1,
          1,
          5,
          2,
          5,
          5,
          5,
          2,
          2,
          2,
          5,
          5,
          2,
          4,
          5,
          2,
          3,
          3,
          3,
          3,
          8,
          3,
          5,
          5,
          3,
          5,
          5,
          5,
          6,
          6,
          5,
          3,
          5,
          3,
          5,
          10,
          3,
          5,
          3,
          5,
          8,
          5,
          4,
          4,
          4,
          14,
          4,
          5,
          5,
          13,
          5,
          4,
          4,
          5,
          5,
          5,
          4,
          5,
          4,
          4,
          4,
          4,
          5,
          4,
          4,
          4,
          5,
          4,
          5,
          5,
          4,
          5,
          4,
          5,
          5,
          5,
          5,
          5,
          5,
          5,
          5,
          5,
          5,
          5,
          5,
          5,
          1,
          6,
          5,
          7,
          6,
          1,
          5,
          5,
          5,
          1,
          5,
          1,
          1,
          2,
          2,
          2,
          2,
          2,
          2,
          5,
          5,
          7,
          2,
          2,
          5,
          4,
          5,
          4,
          4,
          4,
          4,
          4,
          9,
          5,
          5,
          4,
          4,
          5,
          5,
          5,
          8,
          10,
          8,
          5,
          5,
          5,
          4,
          5,
          5,
          4,
          5,
          4,
          4,
          4,
          4,
          4,
          4,
          4,
          4,
          9,
          5,
          4,
          4,
          4,
          4,
          9,
          5,
          4,
          5,
          4,
          4,
          8,
          5,
          5,
          5,
          5,
          5,
          10,
          6,
          1,
          5,
          5,
          5,
          5,
          5,
          1,
          5,
          1,
          6,
          5,
          5,
          1,
          12,
          6,
          1,
          5,
          5,
          1,
          6,
          6,
          1,
          1,
          5,
          5,
          5,
          1,
          1,
          1,
          5,
          1,
          1,
          2,
          1,
          7,
          2,
          2,
          5,
          2,
          7,
          5,
          2,
          2,
          4,
          5,
          5,
          5,
          7,
          5,
          2,
          2,
          4,
          2,
          5,
          7,
          3,
          4,
          3,
          3,
          3,
          5,
          8,
          7,
          5,
          4,
          4,
          4,
          4,
          9,
          5,
          5,
          5,
          4,
          4,
          5,
          3,
          5,
          5,
          10,
          13,
          6,
          16,
          5,
          11,
          5,
          5,
          5,
          3,
          5,
          5,
          10,
          3,
          9,
          5,
          5,
          4,
          5,
          3,
          9,
          4,
          8,
          5,
          4,
          4,
          4,
          4,
          4,
          4,
          4,
          18,
          4,
          5,
          5,
          13,
          5,
          4,
          4,
          5,
          4,
          5,
          9,
          5,
          4,
          5,
          4,
          4,
          4,
          9,
          13,
          5,
          4,
          4,
          4,
          5,
          4,
          4,
          9,
          4,
          9,
          4,
          5,
          5,
          4,
          4,
          5,
          8,
          5,
          4,
          5,
          5,
          5,
          9,
          5,
          8,
          4,
          14,
          6,
          9,
          5,
          5,
          9,
          12,
          5,
          22,
          9,
          6,
          5,
          9,
          5,
          26,
          5,
          5,
          1,
          4,
          12,
          17,
          1,
          5,
          9,
          10,
          1,
          8,
          11,
          4,
          10,
          9,
          6,
          5,
          14,
          10,
          8,
          5,
          10,
          8,
          10,
          6,
          15,
          1,
          13,
          5,
          4,
          10,
          17,
          5,
          1,
          9,
          13,
          13,
          6,
          9,
          7,
          9,
          2,
          9,
          5,
          2,
          4,
          8,
          9,
          11,
          5,
          17,
          5,
          7,
          2,
          2,
          13,
          14,
          4,
          10,
          5,
          5,
          9,
          9,
          7,
          4,
          5,
          5,
          13,
          7,
          5,
          4,
          9,
          5,
          4,
          4,
          10,
          10,
          5,
          11,
          385,
          389
         ]
        }
       ],
       "layout": {
        "height": 600,
        "legend": {
         "tracegroupgap": 0
        },
        "margin": {
         "t": 60
        },
        "template": {
         "data": {
          "bar": [
           {
            "error_x": {
             "color": "#2a3f5f"
            },
            "error_y": {
             "color": "#2a3f5f"
            },
            "marker": {
             "line": {
              "color": "#E5ECF6",
              "width": 0.5
             },
             "pattern": {
              "fillmode": "overlay",
              "size": 10,
              "solidity": 0.2
             }
            },
            "type": "bar"
           }
          ],
          "barpolar": [
           {
            "marker": {
             "line": {
              "color": "#E5ECF6",
              "width": 0.5
             },
             "pattern": {
              "fillmode": "overlay",
              "size": 10,
              "solidity": 0.2
             }
            },
            "type": "barpolar"
           }
          ],
          "carpet": [
           {
            "aaxis": {
             "endlinecolor": "#2a3f5f",
             "gridcolor": "white",
             "linecolor": "white",
             "minorgridcolor": "white",
             "startlinecolor": "#2a3f5f"
            },
            "baxis": {
             "endlinecolor": "#2a3f5f",
             "gridcolor": "white",
             "linecolor": "white",
             "minorgridcolor": "white",
             "startlinecolor": "#2a3f5f"
            },
            "type": "carpet"
           }
          ],
          "choropleth": [
           {
            "colorbar": {
             "outlinewidth": 0,
             "ticks": ""
            },
            "type": "choropleth"
           }
          ],
          "contour": [
           {
            "colorbar": {
             "outlinewidth": 0,
             "ticks": ""
            },
            "colorscale": [
             [
              0,
              "#0d0887"
             ],
             [
              0.1111111111111111,
              "#46039f"
             ],
             [
              0.2222222222222222,
              "#7201a8"
             ],
             [
              0.3333333333333333,
              "#9c179e"
             ],
             [
              0.4444444444444444,
              "#bd3786"
             ],
             [
              0.5555555555555556,
              "#d8576b"
             ],
             [
              0.6666666666666666,
              "#ed7953"
             ],
             [
              0.7777777777777778,
              "#fb9f3a"
             ],
             [
              0.8888888888888888,
              "#fdca26"
             ],
             [
              1,
              "#f0f921"
             ]
            ],
            "type": "contour"
           }
          ],
          "contourcarpet": [
           {
            "colorbar": {
             "outlinewidth": 0,
             "ticks": ""
            },
            "type": "contourcarpet"
           }
          ],
          "heatmap": [
           {
            "colorbar": {
             "outlinewidth": 0,
             "ticks": ""
            },
            "colorscale": [
             [
              0,
              "#0d0887"
             ],
             [
              0.1111111111111111,
              "#46039f"
             ],
             [
              0.2222222222222222,
              "#7201a8"
             ],
             [
              0.3333333333333333,
              "#9c179e"
             ],
             [
              0.4444444444444444,
              "#bd3786"
             ],
             [
              0.5555555555555556,
              "#d8576b"
             ],
             [
              0.6666666666666666,
              "#ed7953"
             ],
             [
              0.7777777777777778,
              "#fb9f3a"
             ],
             [
              0.8888888888888888,
              "#fdca26"
             ],
             [
              1,
              "#f0f921"
             ]
            ],
            "type": "heatmap"
           }
          ],
          "heatmapgl": [
           {
            "colorbar": {
             "outlinewidth": 0,
             "ticks": ""
            },
            "colorscale": [
             [
              0,
              "#0d0887"
             ],
             [
              0.1111111111111111,
              "#46039f"
             ],
             [
              0.2222222222222222,
              "#7201a8"
             ],
             [
              0.3333333333333333,
              "#9c179e"
             ],
             [
              0.4444444444444444,
              "#bd3786"
             ],
             [
              0.5555555555555556,
              "#d8576b"
             ],
             [
              0.6666666666666666,
              "#ed7953"
             ],
             [
              0.7777777777777778,
              "#fb9f3a"
             ],
             [
              0.8888888888888888,
              "#fdca26"
             ],
             [
              1,
              "#f0f921"
             ]
            ],
            "type": "heatmapgl"
           }
          ],
          "histogram": [
           {
            "marker": {
             "pattern": {
              "fillmode": "overlay",
              "size": 10,
              "solidity": 0.2
             }
            },
            "type": "histogram"
           }
          ],
          "histogram2d": [
           {
            "colorbar": {
             "outlinewidth": 0,
             "ticks": ""
            },
            "colorscale": [
             [
              0,
              "#0d0887"
             ],
             [
              0.1111111111111111,
              "#46039f"
             ],
             [
              0.2222222222222222,
              "#7201a8"
             ],
             [
              0.3333333333333333,
              "#9c179e"
             ],
             [
              0.4444444444444444,
              "#bd3786"
             ],
             [
              0.5555555555555556,
              "#d8576b"
             ],
             [
              0.6666666666666666,
              "#ed7953"
             ],
             [
              0.7777777777777778,
              "#fb9f3a"
             ],
             [
              0.8888888888888888,
              "#fdca26"
             ],
             [
              1,
              "#f0f921"
             ]
            ],
            "type": "histogram2d"
           }
          ],
          "histogram2dcontour": [
           {
            "colorbar": {
             "outlinewidth": 0,
             "ticks": ""
            },
            "colorscale": [
             [
              0,
              "#0d0887"
             ],
             [
              0.1111111111111111,
              "#46039f"
             ],
             [
              0.2222222222222222,
              "#7201a8"
             ],
             [
              0.3333333333333333,
              "#9c179e"
             ],
             [
              0.4444444444444444,
              "#bd3786"
             ],
             [
              0.5555555555555556,
              "#d8576b"
             ],
             [
              0.6666666666666666,
              "#ed7953"
             ],
             [
              0.7777777777777778,
              "#fb9f3a"
             ],
             [
              0.8888888888888888,
              "#fdca26"
             ],
             [
              1,
              "#f0f921"
             ]
            ],
            "type": "histogram2dcontour"
           }
          ],
          "mesh3d": [
           {
            "colorbar": {
             "outlinewidth": 0,
             "ticks": ""
            },
            "type": "mesh3d"
           }
          ],
          "parcoords": [
           {
            "line": {
             "colorbar": {
              "outlinewidth": 0,
              "ticks": ""
             }
            },
            "type": "parcoords"
           }
          ],
          "pie": [
           {
            "automargin": true,
            "type": "pie"
           }
          ],
          "scatter": [
           {
            "fillpattern": {
             "fillmode": "overlay",
             "size": 10,
             "solidity": 0.2
            },
            "type": "scatter"
           }
          ],
          "scatter3d": [
           {
            "line": {
             "colorbar": {
              "outlinewidth": 0,
              "ticks": ""
             }
            },
            "marker": {
             "colorbar": {
              "outlinewidth": 0,
              "ticks": ""
             }
            },
            "type": "scatter3d"
           }
          ],
          "scattercarpet": [
           {
            "marker": {
             "colorbar": {
              "outlinewidth": 0,
              "ticks": ""
             }
            },
            "type": "scattercarpet"
           }
          ],
          "scattergeo": [
           {
            "marker": {
             "colorbar": {
              "outlinewidth": 0,
              "ticks": ""
             }
            },
            "type": "scattergeo"
           }
          ],
          "scattergl": [
           {
            "marker": {
             "colorbar": {
              "outlinewidth": 0,
              "ticks": ""
             }
            },
            "type": "scattergl"
           }
          ],
          "scattermapbox": [
           {
            "marker": {
             "colorbar": {
              "outlinewidth": 0,
              "ticks": ""
             }
            },
            "type": "scattermapbox"
           }
          ],
          "scatterpolar": [
           {
            "marker": {
             "colorbar": {
              "outlinewidth": 0,
              "ticks": ""
             }
            },
            "type": "scatterpolar"
           }
          ],
          "scatterpolargl": [
           {
            "marker": {
             "colorbar": {
              "outlinewidth": 0,
              "ticks": ""
             }
            },
            "type": "scatterpolargl"
           }
          ],
          "scatterternary": [
           {
            "marker": {
             "colorbar": {
              "outlinewidth": 0,
              "ticks": ""
             }
            },
            "type": "scatterternary"
           }
          ],
          "surface": [
           {
            "colorbar": {
             "outlinewidth": 0,
             "ticks": ""
            },
            "colorscale": [
             [
              0,
              "#0d0887"
             ],
             [
              0.1111111111111111,
              "#46039f"
             ],
             [
              0.2222222222222222,
              "#7201a8"
             ],
             [
              0.3333333333333333,
              "#9c179e"
             ],
             [
              0.4444444444444444,
              "#bd3786"
             ],
             [
              0.5555555555555556,
              "#d8576b"
             ],
             [
              0.6666666666666666,
              "#ed7953"
             ],
             [
              0.7777777777777778,
              "#fb9f3a"
             ],
             [
              0.8888888888888888,
              "#fdca26"
             ],
             [
              1,
              "#f0f921"
             ]
            ],
            "type": "surface"
           }
          ],
          "table": [
           {
            "cells": {
             "fill": {
              "color": "#EBF0F8"
             },
             "line": {
              "color": "white"
             }
            },
            "header": {
             "fill": {
              "color": "#C8D4E3"
             },
             "line": {
              "color": "white"
             }
            },
            "type": "table"
           }
          ]
         },
         "layout": {
          "annotationdefaults": {
           "arrowcolor": "#2a3f5f",
           "arrowhead": 0,
           "arrowwidth": 1
          },
          "autotypenumbers": "strict",
          "coloraxis": {
           "colorbar": {
            "outlinewidth": 0,
            "ticks": ""
           }
          },
          "colorscale": {
           "diverging": [
            [
             0,
             "#8e0152"
            ],
            [
             0.1,
             "#c51b7d"
            ],
            [
             0.2,
             "#de77ae"
            ],
            [
             0.3,
             "#f1b6da"
            ],
            [
             0.4,
             "#fde0ef"
            ],
            [
             0.5,
             "#f7f7f7"
            ],
            [
             0.6,
             "#e6f5d0"
            ],
            [
             0.7,
             "#b8e186"
            ],
            [
             0.8,
             "#7fbc41"
            ],
            [
             0.9,
             "#4d9221"
            ],
            [
             1,
             "#276419"
            ]
           ],
           "sequential": [
            [
             0,
             "#0d0887"
            ],
            [
             0.1111111111111111,
             "#46039f"
            ],
            [
             0.2222222222222222,
             "#7201a8"
            ],
            [
             0.3333333333333333,
             "#9c179e"
            ],
            [
             0.4444444444444444,
             "#bd3786"
            ],
            [
             0.5555555555555556,
             "#d8576b"
            ],
            [
             0.6666666666666666,
             "#ed7953"
            ],
            [
             0.7777777777777778,
             "#fb9f3a"
            ],
            [
             0.8888888888888888,
             "#fdca26"
            ],
            [
             1,
             "#f0f921"
            ]
           ],
           "sequentialminus": [
            [
             0,
             "#0d0887"
            ],
            [
             0.1111111111111111,
             "#46039f"
            ],
            [
             0.2222222222222222,
             "#7201a8"
            ],
            [
             0.3333333333333333,
             "#9c179e"
            ],
            [
             0.4444444444444444,
             "#bd3786"
            ],
            [
             0.5555555555555556,
             "#d8576b"
            ],
            [
             0.6666666666666666,
             "#ed7953"
            ],
            [
             0.7777777777777778,
             "#fb9f3a"
            ],
            [
             0.8888888888888888,
             "#fdca26"
            ],
            [
             1,
             "#f0f921"
            ]
           ]
          },
          "colorway": [
           "#636efa",
           "#EF553B",
           "#00cc96",
           "#ab63fa",
           "#FFA15A",
           "#19d3f3",
           "#FF6692",
           "#B6E880",
           "#FF97FF",
           "#FECB52"
          ],
          "font": {
           "color": "#2a3f5f"
          },
          "geo": {
           "bgcolor": "white",
           "lakecolor": "white",
           "landcolor": "#E5ECF6",
           "showlakes": true,
           "showland": true,
           "subunitcolor": "white"
          },
          "hoverlabel": {
           "align": "left"
          },
          "hovermode": "closest",
          "mapbox": {
           "style": "light"
          },
          "paper_bgcolor": "white",
          "plot_bgcolor": "#E5ECF6",
          "polar": {
           "angularaxis": {
            "gridcolor": "white",
            "linecolor": "white",
            "ticks": ""
           },
           "bgcolor": "#E5ECF6",
           "radialaxis": {
            "gridcolor": "white",
            "linecolor": "white",
            "ticks": ""
           }
          },
          "scene": {
           "xaxis": {
            "backgroundcolor": "#E5ECF6",
            "gridcolor": "white",
            "gridwidth": 2,
            "linecolor": "white",
            "showbackground": true,
            "ticks": "",
            "zerolinecolor": "white"
           },
           "yaxis": {
            "backgroundcolor": "#E5ECF6",
            "gridcolor": "white",
            "gridwidth": 2,
            "linecolor": "white",
            "showbackground": true,
            "ticks": "",
            "zerolinecolor": "white"
           },
           "zaxis": {
            "backgroundcolor": "#E5ECF6",
            "gridcolor": "white",
            "gridwidth": 2,
            "linecolor": "white",
            "showbackground": true,
            "ticks": "",
            "zerolinecolor": "white"
           }
          },
          "shapedefaults": {
           "line": {
            "color": "#2a3f5f"
           }
          },
          "ternary": {
           "aaxis": {
            "gridcolor": "white",
            "linecolor": "white",
            "ticks": ""
           },
           "baxis": {
            "gridcolor": "white",
            "linecolor": "white",
            "ticks": ""
           },
           "bgcolor": "#E5ECF6",
           "caxis": {
            "gridcolor": "white",
            "linecolor": "white",
            "ticks": ""
           }
          },
          "title": {
           "x": 0.05
          },
          "xaxis": {
           "automargin": true,
           "gridcolor": "white",
           "linecolor": "white",
           "ticks": "",
           "title": {
            "standoff": 15
           },
           "zerolinecolor": "white",
           "zerolinewidth": 2
          },
          "yaxis": {
           "automargin": true,
           "gridcolor": "white",
           "linecolor": "white",
           "ticks": "",
           "title": {
            "standoff": 15
           },
           "zerolinecolor": "white",
           "zerolinewidth": 2
          }
         }
        },
        "width": 800
       }
      }
     },
     "metadata": {},
     "output_type": "display_data"
    }
   ],
   "source": [
    "\n",
    "\n",
    "fig = px.sunburst(df, path=['Sex', 'Age', 'BP', 'Cholesterol', 'Na_to_K'],\n",
    "                  values='DrugValue', color='Sex')\n",
    "\n",
    "# Set the width and height of the plot\n",
    "fig.update_layout(width=800, height=600) \n",
    "\n",
    "fig.show()"
   ]
  },
  {
   "cell_type": "code",
   "execution_count": 12,
   "metadata": {},
   "outputs": [],
   "source": [
    "# ! pip install circlize"
   ]
  },
  {
   "cell_type": "code",
   "execution_count": 5,
   "metadata": {},
   "outputs": [
    {
     "data": {
      "image/png": "[encoded data removed]",
      "text/plain": [
       "<Figure size 640x480 with 1 Axes>"
      ]
     },
     "metadata": {},
     "output_type": "display_data"
    }
   ],
   "source": [
    "import matplotlib.pyplot as plt\n",
    "import numpy as np\n",
    "\n",
    "# Sample data\n",
    "data = np.random.rand(10)\n",
    "\n",
    "# Create a Circos-style plot\n",
    "fig, ax = plt.subplots(subplot_kw={'polar': True})\n",
    "ax.set_theta_offset(np.pi / 2)\n",
    "ax.set_theta_direction(-1)\n",
    "\n",
    "theta = np.linspace(0, 2 * np.pi, 10, endpoint=False)\n",
    "radii = data\n",
    "width = np.pi / 5\n",
    "\n",
    "bars = ax.bar(theta, radii, width=width, bottom=0.0, color=plt.cm.viridis(data))\n",
    "\n",
    "plt.show()\n",
    "\n"
   ]
  },
  {
   "cell_type": "code",
   "execution_count": 6,
   "metadata": {},
   "outputs": [
    {
     "name": "stdout",
     "output_type": "stream",
     "text": [
      "Requirement already satisfied: circos in c:\\users\\prabh\\appdata\\local\\programs\\python\\python310\\lib\\site-packages (1.3.5)\n",
      "Requirement already satisfied: matplotlib in c:\\users\\prabh\\appdata\\local\\programs\\python\\python310\\lib\\site-packages (from circos) (3.6.3)\n",
      "Requirement already satisfied: numpy in c:\\users\\prabh\\appdata\\local\\programs\\python\\python310\\lib\\site-packages (from circos) (1.23.3)\n",
      "Requirement already satisfied: pycodestyle in c:\\users\\prabh\\appdata\\local\\programs\\python\\python310\\lib\\site-packages (from circos) (2.11.1)\n",
      "Requirement already satisfied: setuptools in c:\\users\\prabh\\appdata\\local\\programs\\python\\python310\\lib\\site-packages (from circos) (63.2.0)\n",
      "Requirement already satisfied: contourpy>=1.0.1 in c:\\users\\prabh\\appdata\\local\\programs\\python\\python310\\lib\\site-packages (from matplotlib->circos) (1.0.7)\n",
      "Requirement already satisfied: cycler>=0.10 in c:\\users\\prabh\\appdata\\local\\programs\\python\\python310\\lib\\site-packages (from matplotlib->circos) (0.11.0)\n",
      "Requirement already satisfied: fonttools>=4.22.0 in c:\\users\\prabh\\appdata\\local\\programs\\python\\python310\\lib\\site-packages (from matplotlib->circos) (4.38.0)\n",
      "Requirement already satisfied: kiwisolver>=1.0.1 in c:\\users\\prabh\\appdata\\local\\programs\\python\\python310\\lib\\site-packages (from matplotlib->circos) (1.4.4)\n",
      "Requirement already satisfied: packaging>=20.0 in c:\\users\\prabh\\appdata\\local\\programs\\python\\python310\\lib\\site-packages (from matplotlib->circos) (21.3)\n",
      "Requirement already satisfied: pillow>=6.2.0 in c:\\users\\prabh\\appdata\\local\\programs\\python\\python310\\lib\\site-packages (from matplotlib->circos) (9.4.0)\n",
      "Requirement already satisfied: pyparsing>=2.2.1 in c:\\users\\prabh\\appdata\\local\\programs\\python\\python310\\lib\\site-packages (from matplotlib->circos) (3.0.9)\n",
      "Requirement already satisfied: python-dateutil>=2.7 in c:\\users\\prabh\\appdata\\local\\programs\\python\\python310\\lib\\site-packages (from matplotlib->circos) (2.8.2)\n",
      "Requirement already satisfied: six>=1.5 in c:\\users\\prabh\\appdata\\local\\programs\\python\\python310\\lib\\site-packages (from python-dateutil>=2.7->matplotlib->circos) (1.16.0)\n"
     ]
    },
    {
     "name": "stderr",
     "output_type": "stream",
     "text": [
      "\n",
      "[notice] A new release of pip is available: 23.2.1 -> 23.3.1\n",
      "[notice] To update, run: python.exe -m pip install --upgrade pip\n"
     ]
    }
   ],
   "source": [
    "! pip install circos"
   ]
  },
  {
   "cell_type": "code",
   "execution_count": 7,
   "metadata": {},
   "outputs": [
    {
     "ename": "TypeError",
     "evalue": "CircosPlot.__init__() got an unexpected keyword argument 'trackType'",
     "output_type": "error",
     "traceback": [
      "\u001b[1;31m---------------------------------------------------------------------------\u001b[0m",
      "\u001b[1;31mTypeError\u001b[0m                                 Traceback (most recent call last)",
      "\u001b[1;32md:\\Git_Jupyter\\Data_Visulization\\Sun_BrustPlot.ipynb Cell 8\u001b[0m line \u001b[0;36m1\n\u001b[0;32m      <a href='vscode-notebook-cell:/d%3A/Git_Jupyter/Data_Visulization/Sun_BrustPlot.ipynb#X10sZmlsZQ%3D%3D?line=6'>7</a>\u001b[0m data \u001b[39m=\u001b[39m pd\u001b[39m.\u001b[39mDataFrame({\n\u001b[0;32m      <a href='vscode-notebook-cell:/d%3A/Git_Jupyter/Data_Visulization/Sun_BrustPlot.ipynb#X10sZmlsZQ%3D%3D?line=7'>8</a>\u001b[0m     \u001b[39m'\u001b[39m\u001b[39mstart\u001b[39m\u001b[39m'\u001b[39m: np\u001b[39m.\u001b[39marange(\u001b[39m10\u001b[39m),\n\u001b[0;32m      <a href='vscode-notebook-cell:/d%3A/Git_Jupyter/Data_Visulization/Sun_BrustPlot.ipynb#X10sZmlsZQ%3D%3D?line=8'>9</a>\u001b[0m     \u001b[39m'\u001b[39m\u001b[39mend\u001b[39m\u001b[39m'\u001b[39m: np\u001b[39m.\u001b[39marange(\u001b[39m10\u001b[39m) \u001b[39m+\u001b[39m \u001b[39m1\u001b[39m,\n\u001b[0;32m     <a href='vscode-notebook-cell:/d%3A/Git_Jupyter/Data_Visulization/Sun_BrustPlot.ipynb#X10sZmlsZQ%3D%3D?line=9'>10</a>\u001b[0m     \u001b[39m'\u001b[39m\u001b[39mvalue\u001b[39m\u001b[39m'\u001b[39m: np\u001b[39m.\u001b[39mrandom\u001b[39m.\u001b[39mrand(\u001b[39m10\u001b[39m)\n\u001b[0;32m     <a href='vscode-notebook-cell:/d%3A/Git_Jupyter/Data_Visulization/Sun_BrustPlot.ipynb#X10sZmlsZQ%3D%3D?line=10'>11</a>\u001b[0m })\n\u001b[0;32m     <a href='vscode-notebook-cell:/d%3A/Git_Jupyter/Data_Visulization/Sun_BrustPlot.ipynb#X10sZmlsZQ%3D%3D?line=12'>13</a>\u001b[0m \u001b[39m# Create a CircosPlot object\u001b[39;00m\n\u001b[1;32m---> <a href='vscode-notebook-cell:/d%3A/Git_Jupyter/Data_Visulization/Sun_BrustPlot.ipynb#X10sZmlsZQ%3D%3D?line=13'>14</a>\u001b[0m c \u001b[39m=\u001b[39m CircosPlot(\n\u001b[0;32m     <a href='vscode-notebook-cell:/d%3A/Git_Jupyter/Data_Visulization/Sun_BrustPlot.ipynb#X10sZmlsZQ%3D%3D?line=14'>15</a>\u001b[0m     data,\n\u001b[0;32m     <a href='vscode-notebook-cell:/d%3A/Git_Jupyter/Data_Visulization/Sun_BrustPlot.ipynb#X10sZmlsZQ%3D%3D?line=15'>16</a>\u001b[0m     figsize\u001b[39m=\u001b[39;49m(\u001b[39m6\u001b[39;49m, \u001b[39m6\u001b[39;49m),\n\u001b[0;32m     <a href='vscode-notebook-cell:/d%3A/Git_Jupyter/Data_Visulization/Sun_BrustPlot.ipynb#X10sZmlsZQ%3D%3D?line=16'>17</a>\u001b[0m     trackType\u001b[39m=\u001b[39;49m\u001b[39m'\u001b[39;49m\u001b[39mline\u001b[39;49m\u001b[39m'\u001b[39;49m,\n\u001b[0;32m     <a href='vscode-notebook-cell:/d%3A/Git_Jupyter/Data_Visulization/Sun_BrustPlot.ipynb#X10sZmlsZQ%3D%3D?line=17'>18</a>\u001b[0m     trackHeight\u001b[39m=\u001b[39;49m\u001b[39m0.4\u001b[39;49m,\n\u001b[0;32m     <a href='vscode-notebook-cell:/d%3A/Git_Jupyter/Data_Visulization/Sun_BrustPlot.ipynb#X10sZmlsZQ%3D%3D?line=18'>19</a>\u001b[0m     figWidth\u001b[39m=\u001b[39;49m\u001b[39m0.1\u001b[39;49m\n\u001b[0;32m     <a href='vscode-notebook-cell:/d%3A/Git_Jupyter/Data_Visulization/Sun_BrustPlot.ipynb#X10sZmlsZQ%3D%3D?line=19'>20</a>\u001b[0m )\n\u001b[0;32m     <a href='vscode-notebook-cell:/d%3A/Git_Jupyter/Data_Visulization/Sun_BrustPlot.ipynb#X10sZmlsZQ%3D%3D?line=21'>22</a>\u001b[0m \u001b[39m# Customize the Circos plot\u001b[39;00m\n\u001b[0;32m     <a href='vscode-notebook-cell:/d%3A/Git_Jupyter/Data_Visulization/Sun_BrustPlot.ipynb#X10sZmlsZQ%3D%3D?line=22'>23</a>\u001b[0m c\u001b[39m.\u001b[39mplot(tracklist\u001b[39m=\u001b[39m[\n\u001b[0;32m     <a href='vscode-notebook-cell:/d%3A/Git_Jupyter/Data_Visulization/Sun_BrustPlot.ipynb#X10sZmlsZQ%3D%3D?line=23'>24</a>\u001b[0m     {\n\u001b[0;32m     <a href='vscode-notebook-cell:/d%3A/Git_Jupyter/Data_Visulization/Sun_BrustPlot.ipynb#X10sZmlsZQ%3D%3D?line=24'>25</a>\u001b[0m         \u001b[39m'\u001b[39m\u001b[39mtrack_type\u001b[39m\u001b[39m'\u001b[39m: \u001b[39m'\u001b[39m\u001b[39mline\u001b[39m\u001b[39m'\u001b[39m,\n\u001b[1;32m   (...)\u001b[0m\n\u001b[0;32m     <a href='vscode-notebook-cell:/d%3A/Git_Jupyter/Data_Visulization/Sun_BrustPlot.ipynb#X10sZmlsZQ%3D%3D?line=30'>31</a>\u001b[0m     }\n\u001b[0;32m     <a href='vscode-notebook-cell:/d%3A/Git_Jupyter/Data_Visulization/Sun_BrustPlot.ipynb#X10sZmlsZQ%3D%3D?line=31'>32</a>\u001b[0m ])\n",
      "\u001b[1;31mTypeError\u001b[0m: CircosPlot.__init__() got an unexpected keyword argument 'trackType'"
     ]
    }
   ],
   "source": [
    "# Import necessary libraries\n",
    "from circos import CircosPlot\n",
    "import numpy as np\n",
    "import pandas as pd\n",
    "\n",
    "# Sample data\n",
    "data = pd.DataFrame({\n",
    "    'start': np.arange(10),\n",
    "    'end': np.arange(10) + 1,\n",
    "    'value': np.random.rand(10)\n",
    "})\n",
    "\n",
    "# Create a CircosPlot object\n",
    "c = CircosPlot(\n",
    "    data,\n",
    "    figsize=(6, 6),\n",
    "    trackType='line',\n",
    "    trackHeight=0.4,\n",
    "    figWidth=0.1\n",
    ")\n",
    "\n",
    "# Customize the Circos plot\n",
    "c.plot(tracklist=[\n",
    "    {\n",
    "        'track_type': 'line',\n",
    "        'data': data,\n",
    "        'color': 'blue',\n",
    "        'line_width': 0.1,\n",
    "        'inner_radius': 0.5,\n",
    "        'outer_radius': 0.7,\n",
    "    }\n",
    "])\n",
    "\n",
    "# Display the Circos plot\n",
    "c.draw()\n"
   ]
  },
  {
   "cell_type": "code",
   "execution_count": 9,
   "metadata": {},
   "outputs": [
    {
     "name": "stdout",
     "output_type": "stream",
     "text": [
      "Requirement already satisfied: python-circos in c:\\users\\prabh\\appdata\\local\\programs\\python\\python310\\lib\\site-packages (0.3.0)\n",
      "Requirement already satisfied: matplotlib>=3.4 in c:\\users\\prabh\\appdata\\local\\programs\\python\\python310\\lib\\site-packages (from python-circos) (3.6.3)\n",
      "Requirement already satisfied: biopython>=1.78 in c:\\users\\prabh\\appdata\\local\\programs\\python\\python310\\lib\\site-packages (from python-circos) (1.81)\n",
      "Requirement already satisfied: numpy in c:\\users\\prabh\\appdata\\local\\programs\\python\\python310\\lib\\site-packages (from biopython>=1.78->python-circos) (1.23.3)\n",
      "Requirement already satisfied: contourpy>=1.0.1 in c:\\users\\prabh\\appdata\\local\\programs\\python\\python310\\lib\\site-packages (from matplotlib>=3.4->python-circos) (1.0.7)\n",
      "Requirement already satisfied: cycler>=0.10 in c:\\users\\prabh\\appdata\\local\\programs\\python\\python310\\lib\\site-packages (from matplotlib>=3.4->python-circos) (0.11.0)\n",
      "Requirement already satisfied: fonttools>=4.22.0 in c:\\users\\prabh\\appdata\\local\\programs\\python\\python310\\lib\\site-packages (from matplotlib>=3.4->python-circos) (4.38.0)\n",
      "Requirement already satisfied: kiwisolver>=1.0.1 in c:\\users\\prabh\\appdata\\local\\programs\\python\\python310\\lib\\site-packages (from matplotlib>=3.4->python-circos) (1.4.4)\n",
      "Requirement already satisfied: packaging>=20.0 in c:\\users\\prabh\\appdata\\local\\programs\\python\\python310\\lib\\site-packages (from matplotlib>=3.4->python-circos) (21.3)\n",
      "Requirement already satisfied: pillow>=6.2.0 in c:\\users\\prabh\\appdata\\local\\programs\\python\\python310\\lib\\site-packages (from matplotlib>=3.4->python-circos) (9.4.0)\n",
      "Requirement already satisfied: pyparsing>=2.2.1 in c:\\users\\prabh\\appdata\\local\\programs\\python\\python310\\lib\\site-packages (from matplotlib>=3.4->python-circos) (3.0.9)\n",
      "Requirement already satisfied: python-dateutil>=2.7 in c:\\users\\prabh\\appdata\\local\\programs\\python\\python310\\lib\\site-packages (from matplotlib>=3.4->python-circos) (2.8.2)\n",
      "Requirement already satisfied: six>=1.5 in c:\\users\\prabh\\appdata\\local\\programs\\python\\python310\\lib\\site-packages (from python-dateutil>=2.7->matplotlib>=3.4->python-circos) (1.16.0)\n"
     ]
    },
    {
     "name": "stderr",
     "output_type": "stream",
     "text": [
      "\n",
      "[notice] A new release of pip is available: 23.2.1 -> 23.3.1\n",
      "[notice] To update, run: python.exe -m pip install --upgrade pip\n"
     ]
    }
   ],
   "source": [
    "# ! pip install circlize\n",
    "! pip install python-circos"
   ]
  },
  {
   "cell_type": "code",
   "execution_count": 10,
   "metadata": {},
   "outputs": [],
   "source": [
    "import pycircos\n",
    "import collections\n",
    "import matplotlib.pyplot as plt\n",
    "Garc    = pycircos.Garc\n",
    "Gcircle = pycircos.Gcircle"
   ]
  },
  {
   "cell_type": "code",
   "execution_count": 11,
   "metadata": {},
   "outputs": [
    {
     "ename": "FileNotFoundError",
     "evalue": "[Errno 2] No such file or directory: 'pycircos/sample_data/example_data_chromosome_general.csv'",
     "output_type": "error",
     "traceback": [
      "\u001b[1;31m---------------------------------------------------------------------------\u001b[0m",
      "\u001b[1;31mFileNotFoundError\u001b[0m                         Traceback (most recent call last)",
      "\u001b[1;32md:\\Git_Jupyter\\Data_Visulization\\Sun_BrustPlot.ipynb Cell 11\u001b[0m line \u001b[0;36m2\n\u001b[0;32m      <a href='vscode-notebook-cell:/d%3A/Git_Jupyter/Data_Visulization/Sun_BrustPlot.ipynb#X13sZmlsZQ%3D%3D?line=0'>1</a>\u001b[0m circle \u001b[39m=\u001b[39m Gcircle() \n\u001b[1;32m----> <a href='vscode-notebook-cell:/d%3A/Git_Jupyter/Data_Visulization/Sun_BrustPlot.ipynb#X13sZmlsZQ%3D%3D?line=1'>2</a>\u001b[0m \u001b[39mwith\u001b[39;00m \u001b[39mopen\u001b[39;49m(\u001b[39m\"\u001b[39;49m\u001b[39mpycircos/sample_data/example_data_chromosome_general.csv\u001b[39;49m\u001b[39m\"\u001b[39;49m) \u001b[39mas\u001b[39;00m f:\n\u001b[0;32m      <a href='vscode-notebook-cell:/d%3A/Git_Jupyter/Data_Visulization/Sun_BrustPlot.ipynb#X13sZmlsZQ%3D%3D?line=2'>3</a>\u001b[0m     f\u001b[39m.\u001b[39mreadline()\n\u001b[0;32m      <a href='vscode-notebook-cell:/d%3A/Git_Jupyter/Data_Visulization/Sun_BrustPlot.ipynb#X13sZmlsZQ%3D%3D?line=3'>4</a>\u001b[0m     \u001b[39mfor\u001b[39;00m line \u001b[39min\u001b[39;00m f:\n",
      "File \u001b[1;32mc:\\Users\\prabh\\AppData\\Local\\Programs\\Python\\Python310\\lib\\site-packages\\IPython\\core\\interactiveshell.py:282\u001b[0m, in \u001b[0;36m_modified_open\u001b[1;34m(file, *args, **kwargs)\u001b[0m\n\u001b[0;32m    275\u001b[0m \u001b[39mif\u001b[39;00m file \u001b[39min\u001b[39;00m {\u001b[39m0\u001b[39m, \u001b[39m1\u001b[39m, \u001b[39m2\u001b[39m}:\n\u001b[0;32m    276\u001b[0m     \u001b[39mraise\u001b[39;00m \u001b[39mValueError\u001b[39;00m(\n\u001b[0;32m    277\u001b[0m         \u001b[39mf\u001b[39m\u001b[39m\"\u001b[39m\u001b[39mIPython won\u001b[39m\u001b[39m'\u001b[39m\u001b[39mt let you open fd=\u001b[39m\u001b[39m{\u001b[39;00mfile\u001b[39m}\u001b[39;00m\u001b[39m by default \u001b[39m\u001b[39m\"\u001b[39m\n\u001b[0;32m    278\u001b[0m         \u001b[39m\"\u001b[39m\u001b[39mas it is likely to crash IPython. If you know what you are doing, \u001b[39m\u001b[39m\"\u001b[39m\n\u001b[0;32m    279\u001b[0m         \u001b[39m\"\u001b[39m\u001b[39myou can use builtins\u001b[39m\u001b[39m'\u001b[39m\u001b[39m open.\u001b[39m\u001b[39m\"\u001b[39m\n\u001b[0;32m    280\u001b[0m     )\n\u001b[1;32m--> 282\u001b[0m \u001b[39mreturn\u001b[39;00m io_open(file, \u001b[39m*\u001b[39margs, \u001b[39m*\u001b[39m\u001b[39m*\u001b[39mkwargs)\n",
      "\u001b[1;31mFileNotFoundError\u001b[0m: [Errno 2] No such file or directory: 'pycircos/sample_data/example_data_chromosome_general.csv'"
     ]
    },
    {
     "data": {
      "text/plain": [
       "<Figure size 800x800 with 0 Axes>"
      ]
     },
     "metadata": {},
     "output_type": "display_data"
    }
   ],
   "source": [
    "circle = Gcircle() \n",
    "with open(\"pycircos/sample_data/example_data_chromosome_general.csv\") as f:\n",
    "    f.readline()\n",
    "    for line in f:\n",
    "        line   = line.rstrip().split(\",\") \n",
    "        name   = line[0]\n",
    "        length = int(line[-1]) \n",
    "        arc    = Garc(arc_id=name, size=length, interspace=3, raxis_range=(950,1000), labelposition=60, label_visible=True)\n",
    "        circle.add_garc(arc)"
   ]
  },
  {
   "cell_type": "code",
   "execution_count": null,
   "metadata": {},
   "outputs": [],
   "source": []
  }
 ],
 "metadata": {
  "kernelspec": {
   "display_name": "Python 3",
   "language": "python",
   "name": "python3"
  },
  "language_info": {
   "codemirror_mode": {
    "name": "ipython",
    "version": 3
   },
   "file_extension": ".py",
   "mimetype": "text/x-python",
   "name": "python",
   "nbconvert_exporter": "python",
   "pygments_lexer": "ipython3",
   "version": "3.10.7"
  }
 },
 "nbformat": 4,
 "nbformat_minor": 2
}
