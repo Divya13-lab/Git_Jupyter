{
 "cells": [
  {
   "cell_type": "markdown",
   "metadata": {},
   "source": [
    "## Read Fasta Files In Python\n",
    "\n",
    "- Fasta files are text-files for storing nucleotide(DNA) or peptide(amino acids) sequences.\n",
    "- Single or multi-fasta files.\n",
    "- Fasta files can be read using pythin library Biopythin\n",
    "     - Function: SeqIO\n",
    "- BioPython can be installed using pip(! pip install biopython --user)     \n"
   ]
  },
  {
   "cell_type": "code",
   "execution_count": 97,
   "metadata": {},
   "outputs": [],
   "source": [
    "# ! pip install biopython\n",
    "from Bio import SeqIO"
   ]
  },
  {
   "cell_type": "markdown",
   "metadata": {},
   "source": [
    "### Read Single Sequences Fasta"
   ]
  },
  {
   "cell_type": "code",
   "execution_count": 98,
   "metadata": {},
   "outputs": [],
   "source": [
    "filename= 'D:\\Git_Jupyter\\sequence.fasta'"
   ]
  },
  {
   "cell_type": "code",
   "execution_count": 99,
   "metadata": {},
   "outputs": [],
   "source": [
    "seq_object= SeqIO.read(filename, 'fasta')"
   ]
  },
  {
   "cell_type": "code",
   "execution_count": 100,
   "metadata": {},
   "outputs": [
    {
     "data": {
      "text/plain": [
       "Bio.SeqRecord.SeqRecord"
      ]
     },
     "execution_count": 100,
     "metadata": {},
     "output_type": "execute_result"
    }
   ],
   "source": [
    "type(seq_object)"
   ]
  },
  {
   "cell_type": "markdown",
   "metadata": {},
   "source": [
    "### Explore the opened Fasta File"
   ]
  },
  {
   "cell_type": "code",
   "execution_count": 101,
   "metadata": {},
   "outputs": [
    {
     "name": "stdout",
     "output_type": "stream",
     "text": [
      "NG_047557.1\n"
     ]
    }
   ],
   "source": [
    "seq_id= seq_object.id\n",
    "print(seq_id)"
   ]
  },
  {
   "cell_type": "code",
   "execution_count": 102,
   "metadata": {},
   "outputs": [
    {
     "name": "stdout",
     "output_type": "stream",
     "text": [
      "NG_047557.1\n"
     ]
    }
   ],
   "source": [
    "seq_name= seq_object.name\n",
    "print(seq_name)"
   ]
  },
  {
   "cell_type": "code",
   "execution_count": 103,
   "metadata": {},
   "outputs": [
    {
     "name": "stdout",
     "output_type": "stream",
     "text": [
      "NG_047557.1 Staphylococcus aureus N315 bleO gene for bleomycin binding protein, complete CDS\n"
     ]
    }
   ],
   "source": [
    "#  let's see who created this fasta file\n",
    "description= seq_object.description\n",
    "print(description)"
   ]
  },
  {
   "cell_type": "code",
   "execution_count": 104,
   "metadata": {},
   "outputs": [
    {
     "name": "stdout",
     "output_type": "stream",
     "text": [
      "Number of nucleotide: \n",
      " CGGGCCATTTTGCGTAATAAGAAAAAGGATTAATTATGAGCGAATTGAATTAATAATAAGGTAATAGATTTACATTAGAAAATGAAAGGGGATTTTATGCGTGAGAATGTTACAGTCTATCCCGGCATTGCCAGTCGGGGATATTAAAAAGAGTATAGGTTTTTATTGCGATAAACTAGGTTTCACTTTGGTTCACCATGAAGATGGATTCGCAGTTCTAATGTGTAATGAGGTTCGGATTCATCTATGGGAGGCAAGTGATGAAGGCTGGCGCTCTCGTAGTAATGATTCACCGGTTTGTACAGGTGCGGAGTCGTTTATTGCTGGTACTGCTAGTTGCCGCATTGAAGTAGAGGGAATTGATGAATTATATCAACATATTAAGCCTTTGGGCATTTTGCACCCCAATACATCATTAAAAGATCAGTGGTGGGATGAACGAGACTTTGCAGTAATTGATCCCGACAACAATTTGATTAGCTTTTTTCAACAAATAAAAAGCTAAAATCTATTATTAATCTGTTCAGCAATCGGGCGCGATTGCTGAATAAAAGATACGAGAGACCTCTCTTGTATCTTTTTTATTTTGAGTGGTTTTGTCCGTT\n"
     ]
    }
   ],
   "source": [
    "\n",
    "sequence= seq_object.seq\n",
    "print(\"Number of nucleotide: \\n\", sequence)"
   ]
  },
  {
   "cell_type": "code",
   "execution_count": 105,
   "metadata": {},
   "outputs": [
    {
     "name": "stdout",
     "output_type": "stream",
     "text": [
      "605\n"
     ]
    }
   ],
   "source": [
    "#  Find the length\n",
    "length= len(sequence)\n",
    "print(length)"
   ]
  },
  {
   "cell_type": "markdown",
   "metadata": {},
   "source": [
    "## Read Multi-fasta files\n",
    "\n",
    "- A multi-fasta files caontains two or more sequences records\n",
    "- This can be read using the biopython package.\n",
    "- Using iterations (for/while loops), analysis can be done on all or some of the sequences\n",
    "- when working with several sequences, the results of the analysis can be better organized using pandas library.\n",
    "- Python libraries for this tutorial\n",
    "     - biopython\n",
    "     - Pandas\n"
   ]
  },
  {
   "cell_type": "code",
   "execution_count": 106,
   "metadata": {},
   "outputs": [],
   "source": [
    "from Bio import SeqIO\n",
    "import pandas\n",
    "import os"
   ]
  },
  {
   "cell_type": "code",
   "execution_count": 107,
   "metadata": {},
   "outputs": [],
   "source": [
    "filename1= 'D:\\Git_Jupyter\\multi-fasta.fa'"
   ]
  },
  {
   "cell_type": "code",
   "execution_count": 108,
   "metadata": {},
   "outputs": [],
   "source": [
    "seq_obj= SeqIO.parse(filename1, 'fasta')\n",
    "sequence= []\n",
    "\n",
    "for seq in seq_obj:\n",
    "    sequence.append(seq)"
   ]
  },
  {
   "cell_type": "markdown",
   "metadata": {},
   "source": [
    "### Explored the opened fasta file"
   ]
  },
  {
   "cell_type": "code",
   "execution_count": 109,
   "metadata": {},
   "outputs": [
    {
     "data": {
      "text/plain": [
       "5"
      ]
     },
     "execution_count": 109,
     "metadata": {},
     "output_type": "execute_result"
    }
   ],
   "source": [
    "len(sequence)"
   ]
  },
  {
   "cell_type": "code",
   "execution_count": 110,
   "metadata": {},
   "outputs": [],
   "source": [
    "#  Let's explore the first data of fasta file\n",
    "first_record= sequence[0]"
   ]
  },
  {
   "cell_type": "code",
   "execution_count": 111,
   "metadata": {},
   "outputs": [
    {
     "data": {
      "text/plain": [
       "'CP029082.1'"
      ]
     },
     "execution_count": 111,
     "metadata": {},
     "output_type": "execute_result"
    }
   ],
   "source": [
    "first_record.id"
   ]
  },
  {
   "cell_type": "code",
   "execution_count": 112,
   "metadata": {},
   "outputs": [
    {
     "data": {
      "text/plain": [
       "'CP029082.1'"
      ]
     },
     "execution_count": 112,
     "metadata": {},
     "output_type": "execute_result"
    }
   ],
   "source": [
    "first_record.name"
   ]
  },
  {
   "cell_type": "code",
   "execution_count": 113,
   "metadata": {},
   "outputs": [
    {
     "data": {
      "text/plain": [
       "'CP029082.1 Staphylococcus aureus strain AR465 chromosome, complete genome'"
      ]
     },
     "execution_count": 113,
     "metadata": {},
     "output_type": "execute_result"
    }
   ],
   "source": [
    "first_record.description"
   ]
  },
  {
   "cell_type": "code",
   "execution_count": 114,
   "metadata": {},
   "outputs": [],
   "source": [
    "first_sequence_len= first_record.seq"
   ]
  },
  {
   "cell_type": "code",
   "execution_count": 115,
   "metadata": {},
   "outputs": [
    {
     "data": {
      "text/plain": [
       "2911287"
      ]
     },
     "execution_count": 115,
     "metadata": {},
     "output_type": "execute_result"
    }
   ],
   "source": [
    "len(first_sequence_len)"
   ]
  },
  {
   "cell_type": "code",
   "execution_count": 116,
   "metadata": {},
   "outputs": [
    {
     "name": "stdout",
     "output_type": "stream",
     "text": [
      "CP029082.1 CP029082.1 2911287\n",
      "CP030138.1 CP030138.1 3050015\n",
      "CP039157.1 CP039157.1 2970728\n",
      "CP039167.1 CP039167.1 2866643\n",
      "CP013957.1 CP013957.1 3085555\n"
     ]
    }
   ],
   "source": [
    "for record in sequence:\n",
    "    seq_id= record.id\n",
    "    seq_name= record.name\n",
    "    # sequence_description= record.description\n",
    "    sequence= record.seq\n",
    "    length= len(sequence)\n",
    "    print(seq_id, seq_name, length )"
   ]
  },
  {
   "cell_type": "markdown",
   "metadata": {},
   "source": [
    "### To Handle the analysis(Pandas)\n",
    "- Create empty list, which will help tp store sequences information/description."
   ]
  },
  {
   "cell_type": "code",
   "execution_count": 117,
   "metadata": {},
   "outputs": [],
   "source": [
    "seq_ids= []\n",
    "seq_lengths= []"
   ]
  },
  {
   "cell_type": "code",
   "execution_count": 120,
   "metadata": {},
   "outputs": [
    {
     "name": "stdout",
     "output_type": "stream",
     "text": [
      "Analysis completed!\n",
      "Analysis completed!\n",
      "Analysis completed!\n",
      "Analysis completed!\n",
      "Analysis completed!\n"
     ]
    }
   ],
   "source": [
    "# for record in sequence:\n",
    "#     seq_id= record.id\n",
    "#     sequence= record.seq\n",
    "#     length= len(sequence)\n",
    "\n",
    "#     seq_ids.append(seq_id)\n",
    "#     seq_lengths.append(length)\n",
    "#     print('Analysis completed')\n",
    "\n",
    "# Iterate over SeqRecord objects in the sequence file\n",
    "for record in SeqIO.parse(filename1, 'fasta'):\n",
    "    seq_id = record.id\n",
    "    sequence = record.seq\n",
    "    length = len(sequence)\n",
    "\n",
    "    seq_ids.append(seq_id)\n",
    "    seq_lengths.append(length)\n",
    "    print('Analysis completed!')"
   ]
  },
  {
   "cell_type": "markdown",
   "metadata": {},
   "source": [
    "- Now "
   ]
  },
  {
   "cell_type": "code",
   "execution_count": 122,
   "metadata": {},
   "outputs": [
    {
     "data": {
      "text/plain": [
       "['CP029082.1',\n",
       " 'CP030138.1',\n",
       " 'CP039157.1',\n",
       " 'CP039167.1',\n",
       " 'CP013957.1',\n",
       " 'CP029082.1',\n",
       " 'CP030138.1',\n",
       " 'CP039157.1',\n",
       " 'CP039167.1',\n",
       " 'CP013957.1']"
      ]
     },
     "execution_count": 122,
     "metadata": {},
     "output_type": "execute_result"
    }
   ],
   "source": [
    "#  We can see the list\n",
    "# print(seq_ids)\n",
    "seq_ids"
   ]
  },
  {
   "cell_type": "code",
   "execution_count": 123,
   "metadata": {},
   "outputs": [
    {
     "data": {
      "text/plain": [
       "[2911287,\n",
       " 3050015,\n",
       " 2970728,\n",
       " 2866643,\n",
       " 3085555,\n",
       " 2911287,\n",
       " 3050015,\n",
       " 2970728,\n",
       " 2866643,\n",
       " 3085555]"
      ]
     },
     "execution_count": 123,
     "metadata": {},
     "output_type": "execute_result"
    }
   ],
   "source": [
    "seq_lengths"
   ]
  },
  {
   "cell_type": "markdown",
   "metadata": {},
   "source": [
    "- Now let's prepare ii into a formate that we can save with Pandas"
   ]
  },
  {
   "cell_type": "code",
   "execution_count": 125,
   "metadata": {},
   "outputs": [],
   "source": [
    "import pandas as pd\n",
    "\n",
    "df= pd.DataFrame()\n",
    "df['Seq_Id']=seq_ids\n",
    "df['Seq_Length']=seq_lengths"
   ]
  },
  {
   "cell_type": "code",
   "execution_count": 127,
   "metadata": {},
   "outputs": [
    {
     "data": {
      "text/html": [
       "<div>\n",
       "<style scoped>\n",
       "    .dataframe tbody tr th:only-of-type {\n",
       "        vertical-align: middle;\n",
       "    }\n",
       "\n",
       "    .dataframe tbody tr th {\n",
       "        vertical-align: top;\n",
       "    }\n",
       "\n",
       "    .dataframe thead th {\n",
       "        text-align: right;\n",
       "    }\n",
       "</style>\n",
       "<table border=\"1\" class=\"dataframe\">\n",
       "  <thead>\n",
       "    <tr style=\"text-align: right;\">\n",
       "      <th></th>\n",
       "      <th>Seq_Id</th>\n",
       "      <th>Seq_Length</th>\n",
       "    </tr>\n",
       "  </thead>\n",
       "  <tbody>\n",
       "    <tr>\n",
       "      <th>0</th>\n",
       "      <td>CP029082.1</td>\n",
       "      <td>2911287</td>\n",
       "    </tr>\n",
       "    <tr>\n",
       "      <th>1</th>\n",
       "      <td>CP030138.1</td>\n",
       "      <td>3050015</td>\n",
       "    </tr>\n",
       "    <tr>\n",
       "      <th>2</th>\n",
       "      <td>CP039157.1</td>\n",
       "      <td>2970728</td>\n",
       "    </tr>\n",
       "    <tr>\n",
       "      <th>3</th>\n",
       "      <td>CP039167.1</td>\n",
       "      <td>2866643</td>\n",
       "    </tr>\n",
       "    <tr>\n",
       "      <th>4</th>\n",
       "      <td>CP013957.1</td>\n",
       "      <td>3085555</td>\n",
       "    </tr>\n",
       "    <tr>\n",
       "      <th>5</th>\n",
       "      <td>CP029082.1</td>\n",
       "      <td>2911287</td>\n",
       "    </tr>\n",
       "    <tr>\n",
       "      <th>6</th>\n",
       "      <td>CP030138.1</td>\n",
       "      <td>3050015</td>\n",
       "    </tr>\n",
       "    <tr>\n",
       "      <th>7</th>\n",
       "      <td>CP039157.1</td>\n",
       "      <td>2970728</td>\n",
       "    </tr>\n",
       "    <tr>\n",
       "      <th>8</th>\n",
       "      <td>CP039167.1</td>\n",
       "      <td>2866643</td>\n",
       "    </tr>\n",
       "    <tr>\n",
       "      <th>9</th>\n",
       "      <td>CP013957.1</td>\n",
       "      <td>3085555</td>\n",
       "    </tr>\n",
       "  </tbody>\n",
       "</table>\n",
       "</div>"
      ],
      "text/plain": [
       "       Seq_Id  Seq_Length\n",
       "0  CP029082.1     2911287\n",
       "1  CP030138.1     3050015\n",
       "2  CP039157.1     2970728\n",
       "3  CP039167.1     2866643\n",
       "4  CP013957.1     3085555\n",
       "5  CP029082.1     2911287\n",
       "6  CP030138.1     3050015\n",
       "7  CP039157.1     2970728\n",
       "8  CP039167.1     2866643\n",
       "9  CP013957.1     3085555"
      ]
     },
     "execution_count": 127,
     "metadata": {},
     "output_type": "execute_result"
    }
   ],
   "source": [
    "\n",
    "df\n",
    "# df.head()"
   ]
  },
  {
   "cell_type": "markdown",
   "metadata": {},
   "source": [
    "### To save the file"
   ]
  },
  {
   "cell_type": "code",
   "execution_count": 128,
   "metadata": {},
   "outputs": [],
   "source": [
    "outdir= 'D:\\Git_Jupyter'\n",
    "os.chdir(outdir)"
   ]
  },
  {
   "cell_type": "code",
   "execution_count": 129,
   "metadata": {},
   "outputs": [],
   "source": [
    "df.to_csv('sequence_analysis.csv', index= False)"
   ]
  },
  {
   "cell_type": "code",
   "execution_count": 131,
   "metadata": {},
   "outputs": [
    {
     "data": {
      "text/html": [
       "<div>\n",
       "<style scoped>\n",
       "    .dataframe tbody tr th:only-of-type {\n",
       "        vertical-align: middle;\n",
       "    }\n",
       "\n",
       "    .dataframe tbody tr th {\n",
       "        vertical-align: top;\n",
       "    }\n",
       "\n",
       "    .dataframe thead th {\n",
       "        text-align: right;\n",
       "    }\n",
       "</style>\n",
       "<table border=\"1\" class=\"dataframe\">\n",
       "  <thead>\n",
       "    <tr style=\"text-align: right;\">\n",
       "      <th></th>\n",
       "      <th>Seq_Length</th>\n",
       "    </tr>\n",
       "  </thead>\n",
       "  <tbody>\n",
       "    <tr>\n",
       "      <th>count</th>\n",
       "      <td>1.000000e+01</td>\n",
       "    </tr>\n",
       "    <tr>\n",
       "      <th>mean</th>\n",
       "      <td>2.976846e+06</td>\n",
       "    </tr>\n",
       "    <tr>\n",
       "      <th>std</th>\n",
       "      <td>8.647602e+04</td>\n",
       "    </tr>\n",
       "    <tr>\n",
       "      <th>min</th>\n",
       "      <td>2.866643e+06</td>\n",
       "    </tr>\n",
       "    <tr>\n",
       "      <th>25%</th>\n",
       "      <td>2.911287e+06</td>\n",
       "    </tr>\n",
       "    <tr>\n",
       "      <th>50%</th>\n",
       "      <td>2.970728e+06</td>\n",
       "    </tr>\n",
       "    <tr>\n",
       "      <th>75%</th>\n",
       "      <td>3.050015e+06</td>\n",
       "    </tr>\n",
       "    <tr>\n",
       "      <th>max</th>\n",
       "      <td>3.085555e+06</td>\n",
       "    </tr>\n",
       "  </tbody>\n",
       "</table>\n",
       "</div>"
      ],
      "text/plain": [
       "         Seq_Length\n",
       "count  1.000000e+01\n",
       "mean   2.976846e+06\n",
       "std    8.647602e+04\n",
       "min    2.866643e+06\n",
       "25%    2.911287e+06\n",
       "50%    2.970728e+06\n",
       "75%    3.050015e+06\n",
       "max    3.085555e+06"
      ]
     },
     "execution_count": 131,
     "metadata": {},
     "output_type": "execute_result"
    }
   ],
   "source": [
    "df.describe()"
   ]
  },
  {
   "cell_type": "code",
   "execution_count": 136,
   "metadata": {},
   "outputs": [
    {
     "data": {
      "image/png": "[encoded data removed]",
      "text/plain": [
       "<Figure size 640x480 with 1 Axes>"
      ]
     },
     "metadata": {},
     "output_type": "display_data"
    }
   ],
   "source": [
    "import matplotlib.pyplot as plt\n",
    "\n",
    "plt.hist(seq_lengths, bins= 30, color='blue', edgecolor= 'black')\n",
    "plt.title('Sequence Length Distribution')\n",
    "plt.xlabel('Sequence Lengths')\n",
    "plt.ylabel('Count')\n",
    "plt.show()"
   ]
  },
  {
   "cell_type": "code",
   "execution_count": 138,
   "metadata": {},
   "outputs": [
    {
     "name": "stderr",
     "output_type": "stream",
     "text": [
      "C:\\Users\\prabh\\AppData\\Local\\Temp\\ipykernel_14852\\4279996955.py:5: FutureWarning: The default value of numeric_only in DataFrame.corr is deprecated. In a future version, it will default to False. Select only valid columns or specify the value of numeric_only to silence this warning.\n",
      "  sns.heatmap(df.corr(), cmap='coolwarm', annot=True, linewidth=2)\n"
     ]
    },
    {
     "data": {
      "image/png": "[encoded data removed]",
      "text/plain": [
       "<Figure size 640x480 with 2 Axes>"
      ]
     },
     "metadata": {},
     "output_type": "display_data"
    }
   ],
   "source": [
    "import seaborn as sns\n",
    "import matplotlib.pyplot as plt\n",
    "\n",
    "# Assuming seq_lengths is a list of integers representing specific lengths\n",
    "sns.heatmap(df.corr(), cmap='coolwarm', annot=True, linewidth=2)\n",
    "plt.show()\n"
   ]
  },
  {
   "cell_type": "code",
   "execution_count": 142,
   "metadata": {},
   "outputs": [
    {
     "name": "stdout",
     "output_type": "stream",
     "text": [
      "Collecting rpy2==3.4.5\n",
      "  Downloading rpy2-3.4.5.tar.gz (194 kB)\n",
      "     ---------------------------------------- 0.0/194.4 kB ? eta -:--:--\n",
      "     ------------------------------------ - 184.3/194.4 kB 5.6 MB/s eta 0:00:01\n",
      "     -------------------------------------- 194.4/194.4 kB 3.9 MB/s eta 0:00:00\n",
      "  Preparing metadata (setup.py): started\n",
      "  Preparing metadata (setup.py): finished with status 'error'\n"
     ]
    },
    {
     "name": "stderr",
     "output_type": "stream",
     "text": [
      "  error: subprocess-exited-with-error\n",
      "  \n",
      "  × python setup.py egg_info did not run successfully.\n",
      "  │ exit code: 1\n",
      "  ╰─> [2 lines of output]\n",
      "      ['cffi>=1.10.0', 'jinja2', 'pytz', 'tzlocal']\n",
      "      Error: rpy2 in API mode cannot be built without R in the PATH or R_HOME defined. Correct this or force ABI mode-only by defining the environment variable RPY2_CFFI_MODE=ABI\n",
      "      [end of output]\n",
      "  \n",
      "  note: This error originates from a subprocess, and is likely not a problem with pip.\n",
      "error: metadata-generation-failed\n",
      "\n",
      "× Encountered error while generating package metadata.\n",
      "╰─> See above for output.\n",
      "\n",
      "note: This is an issue with the package mentioned above, not pip.\n",
      "hint: See above for details.\n",
      "\n",
      "[notice] A new release of pip is available: 23.2.1 -> 23.3.1\n",
      "[notice] To update, run: python.exe -m pip install --upgrade pip\n"
     ]
    }
   ],
   "source": [
    "! pip install rpy2==3.4.5\n"
   ]
  },
  {
   "cell_type": "code",
   "execution_count": 143,
   "metadata": {},
   "outputs": [
    {
     "ename": "ModuleNotFoundError",
     "evalue": "No module named 'rpy2'",
     "output_type": "error",
     "traceback": [
      "\u001b[1;31m---------------------------------------------------------------------------\u001b[0m",
      "\u001b[1;31mModuleNotFoundError\u001b[0m                       Traceback (most recent call last)",
      "\u001b[1;32md:\\Git_Jupyter\\BioPython.ipynb Cell 42\u001b[0m line \u001b[0;36m1\n\u001b[1;32m----> <a href='vscode-notebook-cell:/d%3A/Git_Jupyter/BioPython.ipynb#X56sZmlsZQ%3D%3D?line=0'>1</a>\u001b[0m \u001b[39mfrom\u001b[39;00m \u001b[39mrpy2\u001b[39;00m\u001b[39m.\u001b[39;00m\u001b[39mrobjects\u001b[39;00m \u001b[39mimport\u001b[39;00m r, pandas2ri\n\u001b[0;32m      <a href='vscode-notebook-cell:/d%3A/Git_Jupyter/BioPython.ipynb#X56sZmlsZQ%3D%3D?line=2'>3</a>\u001b[0m \u001b[39m# Enable automatic conversion between pandas and R data structures\u001b[39;00m\n\u001b[0;32m      <a href='vscode-notebook-cell:/d%3A/Git_Jupyter/BioPython.ipynb#X56sZmlsZQ%3D%3D?line=3'>4</a>\u001b[0m pandas2ri\u001b[39m.\u001b[39mactivate()\n",
      "\u001b[1;31mModuleNotFoundError\u001b[0m: No module named 'rpy2'"
     ]
    }
   ],
   "source": [
    "from rpy2.robjects import r, pandas2ri\n",
    "\n",
    "# Enable automatic conversion between pandas and R data structures\n",
    "pandas2ri.activate()\n",
    "\n",
    "# Now you can use r and pandas2ri as needed\n"
   ]
  },
  {
   "cell_type": "code",
   "execution_count": 1,
   "metadata": {},
   "outputs": [],
   "source": [
    "from Bio.Seq import Seq"
   ]
  },
  {
   "cell_type": "code",
   "execution_count": 2,
   "metadata": {},
   "outputs": [],
   "source": [
    "from Bio import Align"
   ]
  },
  {
   "cell_type": "code",
   "execution_count": 4,
   "metadata": {},
   "outputs": [
    {
     "data": {
      "text/plain": [
       "Pairwise aligner, implementing the Needleman-Wunsch, Smith-Waterman, Gotoh, and Waterman-Smith-Beyer global and local alignment algorithms"
      ]
     },
     "execution_count": 4,
     "metadata": {},
     "output_type": "execute_result"
    }
   ],
   "source": [
    "# Create an object\n",
    "#  global allignment\n",
    "alligner= Align.PairwiseAligner(match_score = 1.0)\n",
    "alligner"
   ]
  },
  {
   "cell_type": "code",
   "execution_count": 10,
   "metadata": {},
   "outputs": [],
   "source": [
    "# seq1= 'D:\\Git_Jupyter\\multi-fasta.fasta'\n",
    "seq1= 'D:\\Git_Jupyter\\multi-fasta.fa'\n",
    "seq2= 'D:\\Git_Jupyter\\multi-fasta.fasta'"
   ]
  },
  {
   "cell_type": "code",
   "execution_count": 11,
   "metadata": {},
   "outputs": [],
   "source": [
    "score= alligner.score(seq1, seq2)"
   ]
  },
  {
   "cell_type": "code",
   "execution_count": 12,
   "metadata": {},
   "outputs": [
    {
     "name": "stdout",
     "output_type": "stream",
     "text": [
      "The score of the alignment is 29.0\n"
     ]
    }
   ],
   "source": [
    "print(f'The score of the alignment is {score}')"
   ]
  },
  {
   "cell_type": "code",
   "execution_count": 13,
   "metadata": {},
   "outputs": [
    {
     "name": "stdout",
     "output_type": "stream",
     "text": [
      "target            0 D:\\Git_Jupyter\\multi-fasta.fa--- 29\n",
      "                  0 |||||||||||||||||||||||||||||--- 32\n",
      "query             0 D:\\Git_Jupyter\\multi-fasta.fasta 32\n",
      "\n",
      "target            0 D:\\Git_Jupyter\\multi-fasta.f---a 29\n",
      "                  0 ||||||||||||||||||||||||||||---| 32\n",
      "query             0 D:\\Git_Jupyter\\multi-fasta.fasta 32\n",
      "\n"
     ]
    }
   ],
   "source": [
    "alignments = alligner.align(seq1, seq2)\n",
    "for alignment in alignments:\n",
    "    print(alignment)"
   ]
  },
  {
   "cell_type": "code",
   "execution_count": 14,
   "metadata": {},
   "outputs": [],
   "source": [
    "# Local allignmrnt\n"
   ]
  },
  {
   "cell_type": "markdown",
   "metadata": {},
   "source": [
    "# Phylogenetic Tree"
   ]
  },
  {
   "cell_type": "code",
   "execution_count": 15,
   "metadata": {},
   "outputs": [],
   "source": [
    "from Bio import Phylo"
   ]
  },
  {
   "cell_type": "code",
   "execution_count": 18,
   "metadata": {},
   "outputs": [],
   "source": [
    "import subprocess"
   ]
  },
  {
   "cell_type": "code",
   "execution_count": 19,
   "metadata": {},
   "outputs": [
    {
     "name": "stdout",
     "output_type": "stream",
     "text": [
      "Collecting gcMapExplorer\n",
      "  Using cached gcMapExplorer-1.0.30.tar.gz (658 kB)\n",
      "  Preparing metadata (setup.py): started\n",
      "  Preparing metadata (setup.py): finished with status 'error'\n"
     ]
    },
    {
     "name": "stderr",
     "output_type": "stream",
     "text": [
      "  error: subprocess-exited-with-error\n",
      "  \n",
      "  × python setup.py egg_info did not run successfully.\n",
      "  │ exit code: 1\n",
      "  ╰─> [6 lines of output]\n",
      "      Traceback (most recent call last):\n",
      "        File \"<string>\", line 2, in <module>\n",
      "        File \"<pip-setuptools-caller>\", line 34, in <module>\n",
      "        File \"C:\\Users\\prabh\\AppData\\Local\\Temp\\pip-install-lxw4najo\\gcmapexplorer_986f10ac6c2444ff9ffa050f7dbf226b\\setup.py\", line 29, in <module>\n",
      "          from Cython.Build import cythonize\n",
      "      ModuleNotFoundError: No module named 'Cython'\n",
      "      [end of output]\n",
      "  \n",
      "  note: This error originates from a subprocess, and is likely not a problem with pip.\n",
      "error: metadata-generation-failed\n",
      "\n",
      "× Encountered error while generating package metadata.\n",
      "╰─> See above for output.\n",
      "\n",
      "note: This is an issue with the package mentioned above, not pip.\n",
      "hint: See above for details.\n",
      "\n",
      "[notice] A new release of pip is available: 23.2.1 -> 23.3.1\n",
      "[notice] To update, run: python.exe -m pip install --upgrade pip\n"
     ]
    }
   ],
   "source": [
    "! pip install gcMapExplorer"
   ]
  },
  {
   "cell_type": "code",
   "execution_count": 1,
   "metadata": {},
   "outputs": [
    {
     "name": "stdout",
     "output_type": "stream",
     "text": [
      "Error in FastQC for sample1.fastq\n",
      "Error in FastQC for sample2.fastq\n",
      "Error in Trimmomatic for sample1.fastq\n",
      "Error in Trimmomatic for sample2.fastq\n",
      "Error in HISAT2 alignment\n",
      "Error in featureCounts quantification\n"
     ]
    }
   ],
   "source": [
    "import subprocess\n",
    "import os\n",
    "\n",
    "def run_command(command):\n",
    "    process = subprocess.Popen(command, shell=True, stdout=subprocess.PIPE, stderr=subprocess.PIPE)\n",
    "    stdout, stderr = process.communicate()\n",
    "    return process.returncode, stdout.decode(), stderr.decode()\n",
    "\n",
    "# Step 1: Quality control using FastQC\n",
    "fastq_files = [\"sample1.fastq\", \"sample2.fastq\"]  # Replace with your actual file names\n",
    "for fastq_file in fastq_files:\n",
    "    fastqc_command = f\"fastqc {fastq_file}\"\n",
    "    return_code, _, _ = run_command(fastqc_command)\n",
    "    if return_code != 0:\n",
    "        print(f\"Error in FastQC for {fastq_file}\")\n",
    "\n",
    "# Step 2: Trimming using Trimmomatic\n",
    "output_dir = \"trimmed_reads\"\n",
    "os.makedirs(output_dir, exist_ok=True)\n",
    "for fastq_file in fastq_files:\n",
    "    trimmed_file = os.path.join(output_dir, f\"trimmed_{os.path.basename(fastq_file)}\")\n",
    "    trimmomatic_command = f\"trimmomatic SE {fastq_file} {trimmed_file} LEADING:3 TRAILING:3 SLIDINGWINDOW:4:15 MINLEN:36\"\n",
    "    return_code, _, _ = run_command(trimmomatic_command)\n",
    "    if return_code != 0:\n",
    "        print(f\"Error in Trimmomatic for {fastq_file}\")\n",
    "\n",
    "# Step 3: Alignment using HISAT2\n",
    "index_prefix = \"genome_index\"  # Replace with your actual index prefix\n",
    "output_sam = \"aligned_reads.sam\"\n",
    "hisat2_command = f\"hisat2 -x {index_prefix} -U {os.path.join(output_dir, 'trimmed_sample1.fastq')} -S {output_sam}\"\n",
    "return_code, _, _ = run_command(hisat2_command)\n",
    "if return_code != 0:\n",
    "    print(\"Error in HISAT2 alignment\")\n",
    "\n",
    "# Step 4: Quantification using featureCounts\n",
    "annotation_file = \"annotation.gtf\"  # Replace with your actual annotation file\n",
    "output_counts = \"feature_counts.txt\"\n",
    "featurecounts_command = f\"featureCounts -a {annotation_file} -o {output_counts} {output_sam}\"\n",
    "return_code, _, _ = run_command(featurecounts_command)\n",
    "if return_code != 0:\n",
    "    print(\"Error in featureCounts quantification\")\n"
   ]
  },
  {
   "cell_type": "code",
   "execution_count": null,
   "metadata": {},
   "outputs": [],
   "source": []
  }
 ],
 "metadata": {
  "kernelspec": {
   "display_name": "Python 3",
   "language": "python",
   "name": "python3"
  },
  "language_info": {
   "codemirror_mode": {
    "name": "ipython",
    "version": 3
   },
   "file_extension": ".py",
   "mimetype": "text/x-python",
   "name": "python",
   "nbconvert_exporter": "python",
   "pygments_lexer": "ipython3",
   "version": "3.10.7"
  }
 },
 "nbformat": 4,
 "nbformat_minor": 2
}
